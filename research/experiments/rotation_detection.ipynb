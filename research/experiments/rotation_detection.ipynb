{
 "cells": [
  {
   "cell_type": "code",
   "execution_count": 6,
   "metadata": {},
   "outputs": [],
   "source": [
    "import sympy as sp\n",
    "from numpy import array\n",
    "from sympy import init_printing\n",
    "init_printing(use_latex='mathjax')\n",
    "import numpy as np\n"
   ]
  },
  {
   "cell_type": "markdown",
   "metadata": {},
   "source": [
    "# "
   ]
  },
  {
   "cell_type": "markdown",
   "metadata": {},
   "source": [
    "# Constant P_Desired"
   ]
  },
  {
   "cell_type": "code",
   "execution_count": 41,
   "metadata": {},
   "outputs": [
    {
     "data": {
      "text/latex": [
       "$\\displaystyle \\left[\\begin{matrix}159.568745659268 & 87.0828788354763 & 31.0971614711907\\\\160.05078258983 & 85.9439851165837 & 31.7890290428182\\\\158.856490973042 & 86.559517537702 & 32.21060280474\\end{matrix}\\right]$"
      ],
      "text/plain": [
       "⎡159.568745659268  87.0828788354763  31.0971614711907⎤\n",
       "⎢                                                    ⎥\n",
       "⎢160.05078258983   85.9439851165837  31.7890290428182⎥\n",
       "⎢                                                    ⎥\n",
       "⎣158.856490973042  86.559517537702    32.21060280474 ⎦"
      ]
     },
     "execution_count": 41,
     "metadata": {},
     "output_type": "execute_result"
    }
   ],
   "source": [
    "X_0 = sp.Symbol('X_0')\n",
    "B = (array([[0.79764357, 0.43530516, 0.1554468 ],\n",
    "       [0.80005315, 0.42961212, 0.15890527],\n",
    "       [0.79408319, 0.43268901, 0.16101261]])) * ((array([[0.01000502]]) + array([[0.01000502]]))/(array([[0.01000502]]) + X_0) )\n",
    "factor = (100 + 10000*X_0) \n",
    "B_Extract = sp.Matrix(sp.simplify(B*factor).subs({X_0: 0.0100}))\n",
    "B_Extract_numpy = np.array(B_Extract, dtype=float)\n",
    "B_Extract"
   ]
  },
  {
   "cell_type": "code",
   "execution_count": 42,
   "metadata": {},
   "outputs": [
    {
     "data": {
      "text/latex": [
       "$\\displaystyle \\left( \\left[\\begin{matrix}0.577411350519014 & -0.456127603738731 & 0.297286957930535\\\\0.577483204903954 & 0.893543002779174 & -0.152588806222014\\\\0.577156200993862 & -0.147150238657084 & -1.08889451299575\\end{matrix}\\right], \\  \\left[\\begin{matrix}277.745881382774 & 0 & 0\\\\0 & -0.992337934376524 & 0\\\\0 & 0 & 0.969790132193756\\end{matrix}\\right]\\right)$"
      ],
      "text/plain": [
       "⎛⎡0.577411350519014  -0.456127603738731  0.297286957930535 ⎤  ⎡277.74588138277\n",
       "⎜⎢                                                         ⎥  ⎢               \n",
       "⎜⎢0.577483204903954  0.893543002779174   -0.152588806222014⎥, ⎢       0       \n",
       "⎜⎢                                                         ⎥  ⎢               \n",
       "⎝⎣0.577156200993862  -0.147150238657084  -1.08889451299575 ⎦  ⎣       0       \n",
       "\n",
       "4          0                   0        ⎤⎞\n",
       "                                        ⎥⎟\n",
       "   -0.992337934376524          0        ⎥⎟\n",
       "                                        ⎥⎟\n",
       "           0           0.969790132193756⎦⎠"
      ]
     },
     "execution_count": 42,
     "metadata": {},
     "output_type": "execute_result"
    }
   ],
   "source": [
    "[T, D] = B_Extract.diagonalize()\n",
    "T,D"
   ]
  },
  {
   "cell_type": "markdown",
   "metadata": {},
   "source": [
    "# Varying P_desired"
   ]
  },
  {
   "cell_type": "code",
   "execution_count": 31,
   "metadata": {},
   "outputs": [
    {
     "data": {
      "text/latex": [
       "$\\displaystyle \\left[\\begin{matrix}0.59054983 & -0.67436103 & -0.13763618\\\\-0.71612946 & -0.54798508 & 0.84944534\\\\-0.49364663 & 0.53141835 & -0.38213331\\end{matrix}\\right]$"
      ],
      "text/plain": [
       "⎡0.59054983   -0.67436103  -0.13763618⎤\n",
       "⎢                                     ⎥\n",
       "⎢-0.71612946  -0.54798508  0.84944534 ⎥\n",
       "⎢                                     ⎥\n",
       "⎣-0.49364663  0.53141835   -0.38213331⎦"
      ]
     },
     "execution_count": 31,
     "metadata": {},
     "output_type": "execute_result"
    }
   ],
   "source": [
    "X_0 = sp.Symbol('X_0')\n",
    "B = array([[ 0.59054983, -0.67436103, -0.13763618],\n",
    "       [-0.71612946, -0.54798508,  0.84944534],\n",
    "       [-0.49364663,  0.53141835, -0.38213331]]) + (array([[ 73.19675248,  -2.94038818,  75.11409288],\n",
    "       [126.37980726, -35.09080056,  61.49177096],\n",
    "       [ 89.96898648, -53.78046592, 110.20199416]])) * (X_0)\n",
    "factor = 1.\n",
    "B_Extract = sp.Matrix(sp.simplify(B*factor).subs({X_0: 0.00000}))\n",
    "B_Extract_numpy = np.array(B_Extract, dtype=float)\n",
    "B_Extract"
   ]
  },
  {
   "cell_type": "code",
   "execution_count": 32,
   "metadata": {},
   "outputs": [
    {
     "data": {
      "text/latex": [
       "$\\displaystyle \\left( \\left[\\begin{matrix}0.740199067156706 & 0.301171453013488 & -0.59517679851369\\\\-0.524059975210368 & 0.871026603869503 & -0.651145749044657\\\\-0.421267709850696 & -0.393925773056603 & -0.687159099401746\\end{matrix}\\right], \\  \\left[\\begin{matrix}1.14632910784492 & 0 & 0\\\\0 & -1.17976390259637 & 0\\\\0 & 0 & -0.306133765248543\\end{matrix}\\right]\\right)$"
      ],
      "text/plain": [
       "⎛⎡0.740199067156706   0.301171453013488   -0.59517679851369 ⎤  ⎡1.146329107844\n",
       "⎜⎢                                                          ⎥  ⎢              \n",
       "⎜⎢-0.524059975210368  0.871026603869503   -0.651145749044657⎥, ⎢       0      \n",
       "⎜⎢                                                          ⎥  ⎢              \n",
       "⎝⎣-0.421267709850696  -0.393925773056603  -0.687159099401746⎦  ⎣       0      \n",
       "\n",
       "92          0                  0         ⎤⎞\n",
       "                                         ⎥⎟\n",
       "    -1.17976390259637          0         ⎥⎟\n",
       "                                         ⎥⎟\n",
       "            0          -0.306133765248543⎦⎠"
      ]
     },
     "execution_count": 32,
     "metadata": {},
     "output_type": "execute_result"
    }
   ],
   "source": [
    "[T, D] = B_Extract.diagonalize()\n",
    "T,D"
   ]
  },
  {
   "cell_type": "code",
   "execution_count": null,
   "metadata": {},
   "outputs": [],
   "source": []
  }
 ],
 "metadata": {
  "kernelspec": {
   "display_name": "stbingo",
   "language": "python",
   "name": "python3"
  },
  "language_info": {
   "codemirror_mode": {
    "name": "ipython",
    "version": 3
   },
   "file_extension": ".py",
   "mimetype": "text/x-python",
   "name": "python",
   "nbconvert_exporter": "python",
   "pygments_lexer": "ipython3",
   "version": "3.11.0"
  }
 },
 "nbformat": 4,
 "nbformat_minor": 2
}
