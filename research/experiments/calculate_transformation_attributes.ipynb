{
 "cells": [
  {
   "cell_type": "code",
   "execution_count": 1,
   "metadata": {},
   "outputs": [],
   "source": [
    "import sympy as sp\n",
    "import numpy as np\n",
    "from sympy import Matrix as array"
   ]
  },
  {
   "cell_type": "code",
   "execution_count": 2,
   "metadata": {},
   "outputs": [],
   "source": [
    "X_0 = sp.Symbol('X_0')\n",
    "eq = (array([[-0.36968465,  0.04996773, -0.03695982],\n",
    "       [ 0.04996773, -0.37777645, -0.00435325],\n",
    "       [-0.03695982, -0.00435325,  0.06633098]])) @ (array([[-0.36968465,  0.04996773, -0.03695982],\n",
    "       [ 0.04996773, -0.37777645, -0.00435325],\n",
    "       [-0.03695982, -0.00435325,  0.06633098]])) + (X_0) * (array([[-0.36968465,  0.04996773, -0.03695982],\n",
    "       [ 0.04996773, -0.37777645, -0.00435325],\n",
    "       [-0.03695982, -0.00435325,  0.06633098]]))"
   ]
  },
  {
   "cell_type": "code",
   "execution_count": 3,
   "metadata": {},
   "outputs": [
    {
     "data": {
      "text/latex": [
       "$\\displaystyle \\left[\\begin{matrix}0.140529542781408 - 0.36968465 X_{0} & 0.04996773 X_{0} - 0.037188039093888 & 0.0109943750189169 - 0.03695982 X_{0}\\\\0.04996773 X_{0} - 0.037188039093888 & 0.145230771001518 - 0.37777645 X_{0} & - 0.00435325 X_{0} - 0.0004909983143311\\\\0.0109943750189169 - 0.03695982 X_{0} & - 0.00435325 X_{0} - 0.0004909983143311 & 0.06633098 X_{0} + 0.0057847779877553\\end{matrix}\\right]$"
      ],
      "text/plain": [
       "Matrix([\n",
       "[ 0.140529542781408 - 0.36968465*X_0,   0.04996773*X_0 - 0.037188039093888,  0.0109943750189169 - 0.03695982*X_0],\n",
       "[ 0.04996773*X_0 - 0.037188039093888,   0.145230771001518 - 0.37777645*X_0, -0.00435325*X_0 - 0.0004909983143311],\n",
       "[0.0109943750189169 - 0.03695982*X_0, -0.00435325*X_0 - 0.0004909983143311,  0.06633098*X_0 + 0.0057847779877553]])"
      ]
     },
     "execution_count": 3,
     "metadata": {},
     "output_type": "execute_result"
    }
   ],
   "source": [
    "eq = sp.simplify(eq)\n",
    "eq"
   ]
  },
  {
   "cell_type": "code",
   "execution_count": 4,
   "metadata": {},
   "outputs": [],
   "source": [
    "x_to_test = np.linspace(0,1.0,1000)\n",
    "for X in x_to_test:\n",
    "    e_temp = eq.subs({X_0: X})\n",
    "    eigs = np.linalg.eigvals(np.array(e_temp).astype(np.float64))\n",
    "    illegals = sum(eig < 0 for eig in eigs)\n",
    "    if illegals > 0:\n",
    "        print('ERROR!!!!!')\n",
    "        print(eigs, X)\n",
    "\n"
   ]
  },
  {
   "cell_type": "code",
   "execution_count": null,
   "metadata": {},
   "outputs": [],
   "source": [
    "strains_to_test = [0.00E+00,\n",
    "    2.63E-02,\n",
    "    5.26E-02,\n",
    "    1.58E-01,\n",
    "    1.84E-01,\n",
    "    2.11E-01,\n",
    "    2.37E-01,\n",
    "    2.63E-01,\n",
    "    2.89E-01,\n",
    "    3.16E-01\n",
    "    ]\n",
    "for X in strains_to_test:\n",
    "    e_temp = eq.subs({X_0: X})\n",
    "    eigs = np.linalg.eigvals(np.array(e_temp).astype(np.float64))\n",
    "    illegals = sum(eig < 0 for eig in eigs)\n",
    "    if illegals > 0:\n",
    "        print('REAL ERROR!!!!!')\n",
    "        print(eigs, X)\n",
    "    else:\n",
    "        print('PASS!')\n",
    "        print(eigs, X)"
   ]
  }
 ],
 "metadata": {
  "kernelspec": {
   "display_name": "stbingo",
   "language": "python",
   "name": "python3"
  },
  "language_info": {
   "codemirror_mode": {
    "name": "ipython",
    "version": 3
   },
   "file_extension": ".py",
   "mimetype": "text/x-python",
   "name": "python",
   "nbconvert_exporter": "python",
   "pygments_lexer": "ipython3",
   "version": "3.11.9"
  }
 },
 "nbformat": 4,
 "nbformat_minor": 2
}
