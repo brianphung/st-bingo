{
 "cells": [
  {
   "cell_type": "code",
   "execution_count": 25,
   "metadata": {},
   "outputs": [],
   "source": [
    "import sympy as sp\n",
    "from numpy import array\n",
    "import numpy as np\n",
    "from sympy import init_printing\n",
    "init_printing(use_latex='mathjax')\n"
   ]
  },
  {
   "cell_type": "code",
   "execution_count": 4,
   "metadata": {},
   "outputs": [
    {
     "data": {
      "text/plain": [
       "array([[-2635.96208838*X_0 - 11.31505478,\n",
       "        -2636.11483912*X_0 - 11.30934089,\n",
       "        -2636.03756048*X_0 - 11.3056795],\n",
       "       [-2636.11483912*X_0 - 11.30934089,\n",
       "        -2636.03364763*X_0 - 11.30580159,\n",
       "        -2635.95814545*X_0 - 11.31506932],\n",
       "       [-2636.03756048*X_0 - 11.3056795,\n",
       "        -2635.95814545*X_0 - 11.31506932,\n",
       "        -2636.11479851*X_0 - 11.30923414]], dtype=object)"
      ]
     },
     "execution_count": 4,
     "metadata": {},
     "output_type": "execute_result"
    }
   ],
   "source": [
    "X_0 = sp.Symbol('X_0')\n",
    "full_eq = array([[-11.31505478, -11.30934089, -11.3056795 ],\n",
    "       [-11.30934089, -11.30580159, -11.31506932],\n",
    "       [-11.3056795 , -11.31506932, -11.30923414]]) + (array([[-2635.96208838, -2636.11483912, -2636.03756048],\n",
    "       [-2636.11483912, -2636.03364763, -2635.95814545],\n",
    "       [-2636.03756048, -2635.95814545, -2636.11479851]])) * (X_0)\n",
    "full_eq"
   ]
  },
  {
   "cell_type": "code",
   "execution_count": 6,
   "metadata": {},
   "outputs": [
    {
     "data": {
      "text/latex": [
       "$\\displaystyle \\left[\\begin{matrix}- 2635.96208838 X_{0} - 11.31505478 & - 2636.11483912 X_{0} - 11.30934089 & - 2636.03756048 X_{0} - 11.3056795\\\\- 2636.11483912 X_{0} - 11.30934089 & - 2636.03364763 X_{0} - 11.30580159 & - 2635.95814545 X_{0} - 11.31506932\\\\- 2636.03756048 X_{0} - 11.3056795 & - 2635.95814545 X_{0} - 11.31506932 & - 2636.11479851 X_{0} - 11.30923414\\end{matrix}\\right]$"
      ],
      "text/plain": [
       "⎡-2635.96208838⋅X₀ - 11.31505478  -2636.11483912⋅X₀ - 11.30934089  -2636.03756\n",
       "⎢                                                                             \n",
       "⎢-2636.11483912⋅X₀ - 11.30934089  -2636.03364763⋅X₀ - 11.30580159  -2635.95814\n",
       "⎢                                                                             \n",
       "⎣-2636.03756048⋅X₀ - 11.3056795   -2635.95814545⋅X₀ - 11.31506932  -2636.11479\n",
       "\n",
       "048⋅X₀ - 11.3056795 ⎤\n",
       "                    ⎥\n",
       "545⋅X₀ - 11.31506932⎥\n",
       "                    ⎥\n",
       "851⋅X₀ - 11.30923414⎦"
      ]
     },
     "execution_count": 6,
     "metadata": {},
     "output_type": "execute_result"
    }
   ],
   "source": [
    "test = sp.Matrix(full_eq)\n",
    "test"
   ]
  },
  {
   "cell_type": "code",
   "execution_count": 18,
   "metadata": {},
   "outputs": [
    {
     "data": {
      "text/latex": [
       "$\\displaystyle \\left[\\begin{matrix}-11.31505478 & -11.30934089 & -11.3056795\\\\-11.30934089 & -11.30580159 & -11.31506932\\\\-11.3056795 & -11.31506932 & -11.30923414\\end{matrix}\\right]$"
      ],
      "text/plain": [
       "⎡-11.31505478  -11.30934089  -11.3056795 ⎤\n",
       "⎢                                        ⎥\n",
       "⎢-11.30934089  -11.30580159  -11.31506932⎥\n",
       "⎢                                        ⎥\n",
       "⎣-11.3056795   -11.31506932  -11.30923414⎦"
      ]
     },
     "execution_count": 18,
     "metadata": {},
     "output_type": "execute_result"
    }
   ],
   "source": [
    "test_0 = test.subs({X_0: 0})\n",
    "test_0"
   ]
  },
  {
   "cell_type": "code",
   "execution_count": 8,
   "metadata": {},
   "outputs": [],
   "source": [
    "stress = sp.Matrix([0, 1000, 0])"
   ]
  },
  {
   "cell_type": "code",
   "execution_count": 19,
   "metadata": {},
   "outputs": [
    {
     "data": {
      "text/latex": [
       "$\\displaystyle \\left[\\begin{matrix}-11309.34089\\\\-11305.80159\\\\-11315.06932\\end{matrix}\\right]$"
      ],
      "text/plain": [
       "⎡-11309.34089⎤\n",
       "⎢            ⎥\n",
       "⎢-11305.80159⎥\n",
       "⎢            ⎥\n",
       "⎣-11315.06932⎦"
      ]
     },
     "execution_count": 19,
     "metadata": {},
     "output_type": "execute_result"
    }
   ],
   "source": [
    "transformed_stress = test_0 @ stress\n",
    "transformed_stress"
   ]
  },
  {
   "cell_type": "code",
   "execution_count": 13,
   "metadata": {},
   "outputs": [
    {
     "data": {
      "text/latex": [
       "$\\displaystyle 8.10038190790365$"
      ],
      "text/plain": [
       "8.10038190790365"
      ]
     },
     "execution_count": 13,
     "metadata": {},
     "output_type": "execute_result"
    }
   ],
   "source": [
    "s1, s2, s3 = transformed_stress\n",
    "vm = sp.sqrt(1/2*( (s1 - s2)**2 + (s2 - s3)**2  + (s3 - s1)**2 ) )\n",
    "vm"
   ]
  },
  {
   "cell_type": "code",
   "execution_count": 88,
   "metadata": {},
   "outputs": [
    {
     "data": {
      "text/latex": [
       "$\\displaystyle \\left( \\frac{1}{\\sigma_{Y}^{2}} \\left[\\begin{matrix}1 & -0.5 & -0.5\\\\-0.5 & 1 & -0.5\\\\-0.5 & -0.5 & 1\\end{matrix}\\right], \\  \\left[\\begin{matrix}1 & -0.5 & -0.5\\\\-0.5 & 1 & -0.5\\\\-0.5 & -0.5 & 1\\end{matrix}\\right]\\right)$"
      ],
      "text/plain": [
       "⎛     ⎡ 1    -0.5  -0.5⎤  ⎡ 1    -0.5  -0.5⎤⎞\n",
       "⎜ 1   ⎢                ⎥  ⎢                ⎥⎟\n",
       "⎜────⋅⎢-0.5   1    -0.5⎥, ⎢-0.5   1    -0.5⎥⎟\n",
       "⎜   2 ⎢                ⎥  ⎢                ⎥⎟\n",
       "⎝σ_Y  ⎣-0.5  -0.5   1  ⎦  ⎣-0.5  -0.5   1  ⎦⎠"
      ]
     },
     "execution_count": 88,
     "metadata": {},
     "output_type": "execute_result"
    }
   ],
   "source": [
    "sigma_Y = sp.Symbol('sigma_Y')\n",
    "P_vm =  sp.Matrix([[1, -0.5, -0.5],\n",
    "                [-0.5, 1, -0.5],\n",
    "                [-0.5, -0.5, 1]])\n",
    "temp_P_vm = sp.MatMul(1/sigma_Y**2, P_vm, evaluate=False)\n",
    "temp_P_vm, P_vm\n"
   ]
  },
  {
   "cell_type": "code",
   "execution_count": 30,
   "metadata": {},
   "outputs": [
    {
     "data": {
      "text/latex": [
       "$\\displaystyle \\left( \\left[\\begin{matrix}1.0 & -0.503285869726093 & -0.489833376160954\\\\-0.503285869876319 & 0.97971024423744 & -0.499810831705443\\\\-0.489833376311103 & -0.499810831705469 & 1.00674370097208\\end{matrix}\\right], \\  6.69750953813525 \\cdot 10^{-5}, \\  0.0001\\right)$"
      ],
      "text/plain": [
       "⎛⎡       1.0          -0.503285869726093  -0.489833376160954⎤                 \n",
       "⎜⎢                                                          ⎥                 \n",
       "⎜⎢-0.503285869876319   0.97971024423744   -0.499810831705443⎥, 6.6975095381352\n",
       "⎜⎢                                                          ⎥                 \n",
       "⎝⎣-0.489833376311103  -0.499810831705469   1.00674370097208 ⎦                 \n",
       "\n",
       "            ⎞\n",
       "            ⎟\n",
       "5e-5, 0.0001⎟\n",
       "            ⎟\n",
       "            ⎠"
      ]
     },
     "execution_count": 30,
     "metadata": {},
     "output_type": "execute_result"
    }
   ],
   "source": [
    "tot = sp.Transpose(test_0) @ P_vm @ test_0\n",
    "reg = tot[0,0]\n",
    "tot/reg, reg, 1/(100)**2"
   ]
  },
  {
   "cell_type": "code",
   "execution_count": 33,
   "metadata": {},
   "outputs": [
    {
     "data": {
      "text/plain": [
       "array([[ 0.66666667,  0.        ,  0.        ],\n",
       "       [ 0.        , -0.33333333,  0.        ],\n",
       "       [ 0.        ,  0.        , -0.33333333]])"
      ]
     },
     "execution_count": 33,
     "metadata": {},
     "output_type": "execute_result"
    }
   ],
   "source": [
    "uni_stress = np.array([[1,0,0], [0, 0, 0], [0,0,0]])\n",
    "dev = uni_stress - 1/3*np.trace(uni_stress)*np.eye(3)\n",
    "dev"
   ]
  },
  {
   "cell_type": "code",
   "execution_count": 35,
   "metadata": {},
   "outputs": [
    {
     "data": {
      "text/latex": [
       "$\\displaystyle 0.333333333333333$"
      ],
      "text/plain": [
       "0.33333333333333337"
      ]
     },
     "execution_count": 35,
     "metadata": {},
     "output_type": "execute_result"
    }
   ],
   "source": [
    "J2 = 1/2*np.trace( np.dot(dev, dev) )\n",
    "J2"
   ]
  },
  {
   "cell_type": "code",
   "execution_count": 36,
   "metadata": {},
   "outputs": [
    {
     "data": {
      "text/latex": [
       "$\\displaystyle 0.816496580927726$"
      ],
      "text/plain": [
       "0.816496580927726"
      ]
     },
     "execution_count": 36,
     "metadata": {},
     "output_type": "execute_result"
    }
   ],
   "source": [
    "r = np.sqrt(2*J2)\n",
    "r"
   ]
  },
  {
   "cell_type": "code",
   "execution_count": 76,
   "metadata": {},
   "outputs": [
    {
     "data": {
      "text/plain": [
       "array([66.6454090365489, -34.9314120101481, -31.6994481556112],\n",
       "      dtype=object)"
      ]
     },
     "execution_count": 76,
     "metadata": {},
     "output_type": "execute_result"
    }
   ],
   "source": [
    "eq = sp.Matrix(((array([[0.01332133]]))/((array([[0.01332133]]) + array([[0.01332133]]) + array([[0.01332133]]) + array([[0.01332133]]) + array([[0.01332133]]) + X_0)/(array([[0.01332133]]) + array([[0.01332133]])) ) ) * (array([[-1.95664328, -2.18063358, -1.86409471],\n",
    "       [-2.18063358, -1.86455281, -1.95751611],\n",
    "       [-1.86409471, -1.95751611, -2.18104853]])))*(666 + 9999*X_0)\n",
    "eq.subs({X_0: 0}).inv() @ np.array([1.725460300683472425e+01,-6.439505508593788363e+01,4.714045207910315582e+01])"
   ]
  },
  {
   "cell_type": "code",
   "execution_count": 77,
   "metadata": {},
   "outputs": [
    {
     "data": {
      "text/latex": [
       "$\\displaystyle 100.0$"
      ],
      "text/plain": [
       "99.99999999999999"
      ]
     },
     "execution_count": 77,
     "metadata": {},
     "output_type": "execute_result"
    }
   ],
   "source": [
    "def vm_from_vector(vector):\n",
    "    s1, s2, s3 = vector\n",
    "    return np.sqrt( 1/2 * (  (s1 - s2)**2 + (s2-s3)**2 + (s1 - s3)**2 ))\n",
    "vm_from_vector(np.array([1.725460300683472425e+01,-6.439505508593788363e+01,4.714045207910315582e+01]))"
   ]
  },
  {
   "cell_type": "code",
   "execution_count": 78,
   "metadata": {},
   "outputs": [
    {
     "data": {
      "text/latex": [
       "$\\displaystyle 100.000017751139$"
      ],
      "text/plain": [
       "100.00001775113869"
      ]
     },
     "execution_count": 78,
     "metadata": {},
     "output_type": "execute_result"
    }
   ],
   "source": [
    "temp = eq.subs({X_0: 0}).inv() @ np.array([1.725460300683472425e+01,-6.439505508593788363e+01,4.714045207910315582e+01])\n",
    "vm_from_vector(np.array(temp.tolist(), dtype=float))"
   ]
  },
  {
   "cell_type": "code",
   "execution_count": 95,
   "metadata": {},
   "outputs": [
    {
     "data": {
      "text/latex": [
       "$\\displaystyle \\left[\\begin{matrix}- \\frac{0.0260650908251624}{37.5337897942623 X_{0} + 2.5} & - \\frac{0.0290489395282614}{37.5337897942623 X_{0} + 2.5} & - \\frac{0.0248322207831643}{37.5337897942623 X_{0} + 2.5}\\\\- \\frac{0.0290489395282614}{37.5337897942623 X_{0} + 2.5} & - \\frac{0.0248383232844373}{37.5337897942623 X_{0} + 2.5} & - \\frac{0.0260767180816263}{37.5337897942623 X_{0} + 2.5}\\\\- \\frac{0.0248322207831643}{37.5337897942623 X_{0} + 2.5} & - \\frac{0.0260767180816263}{37.5337897942623 X_{0} + 2.5} & - \\frac{0.0290544672141449}{37.5337897942623 X_{0} + 2.5}\\end{matrix}\\right]$"
      ],
      "text/plain": [
       "⎡   -0.0260650908251624        -0.0290489395282614        -0.0248322207831643 \n",
       "⎢─────────────────────────  ─────────────────────────  ───────────────────────\n",
       "⎢37.5337897942623⋅X₀ + 2.5  37.5337897942623⋅X₀ + 2.5  37.5337897942623⋅X₀ + 2\n",
       "⎢                                                                             \n",
       "⎢   -0.0290489395282614        -0.0248383232844373        -0.0260767180816263 \n",
       "⎢─────────────────────────  ─────────────────────────  ───────────────────────\n",
       "⎢37.5337897942623⋅X₀ + 2.5  37.5337897942623⋅X₀ + 2.5  37.5337897942623⋅X₀ + 2\n",
       "⎢                                                                             \n",
       "⎢   -0.0248322207831643        -0.0260767180816263        -0.0290544672141449 \n",
       "⎢─────────────────────────  ─────────────────────────  ───────────────────────\n",
       "⎣37.5337897942623⋅X₀ + 2.5  37.5337897942623⋅X₀ + 2.5  37.5337897942623⋅X₀ + 2\n",
       "\n",
       "  ⎤\n",
       "──⎥\n",
       ".5⎥\n",
       "  ⎥\n",
       "  ⎥\n",
       "──⎥\n",
       ".5⎥\n",
       "  ⎥\n",
       "  ⎥\n",
       "──⎥\n",
       ".5⎦"
      ]
     },
     "execution_count": 95,
     "metadata": {},
     "output_type": "execute_result"
    }
   ],
   "source": [
    "test = ((array([[0.01332133]]))/((array([[0.01332133]]) + array([[0.01332133]]) + array([[0.01332133]]) + array([[0.01332133]]) + array([[0.01332133]]) + X_0)/(array([[0.01332133]]) + array([[0.01332133]])) ) ) * (array([[-1.95664328, -2.18063358, -1.86409471],\n",
    "       [-2.18063358, -1.86455281, -1.95751611],\n",
    "       [-1.86409471, -1.95751611, -2.18104853]]))\n",
    "sp.simplify(test)"
   ]
  },
  {
   "cell_type": "code",
   "execution_count": null,
   "metadata": {},
   "outputs": [],
   "source": []
  }
 ],
 "metadata": {
  "kernelspec": {
   "display_name": "stbingo",
   "language": "python",
   "name": "python3"
  },
  "language_info": {
   "codemirror_mode": {
    "name": "ipython",
    "version": 3
   },
   "file_extension": ".py",
   "mimetype": "text/x-python",
   "name": "python",
   "nbconvert_exporter": "python",
   "pygments_lexer": "ipython3",
   "version": "3.11.9"
  }
 },
 "nbformat": 4,
 "nbformat_minor": 2
}
