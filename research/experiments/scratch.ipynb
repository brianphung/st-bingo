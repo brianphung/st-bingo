{
 "cells": [
  {
   "cell_type": "code",
   "execution_count": 1,
   "metadata": {},
   "outputs": [],
   "source": [
    "import numpy as np"
   ]
  },
  {
   "cell_type": "code",
   "execution_count": 2,
   "metadata": {},
   "outputs": [],
   "source": [
    "def align_pi_plane_with_axes_rot():\n",
    "    \"\"\"\n",
    "    Returns a matrix that rotates the pi plane's normal to be the z axis\n",
    "    i.e., a slice of pi plane becomes the xy plane after rotation\n",
    "    \"\"\"\n",
    "    pi_vector = np.array([1, 1, 1]) / np.sqrt(3.)\n",
    "    # wanted_vector = np.array([1, 0, 0])\n",
    "    wanted_vector = np.array([0, 0, 1])\n",
    "    wanted_vector = wanted_vector / np.linalg.norm(wanted_vector)\n",
    "    added = (pi_vector + wanted_vector).reshape([-1, 1])\n",
    "    # from Rodrigues' rotation formula, more info here: https://math.stackexchange.com/a/2672702\n",
    "    rot_mat = 2 * (added @ added.T) / (added.T @ added) - np.eye(3)\n",
    "    return rot_mat\n"
   ]
  },
  {
   "cell_type": "code",
   "execution_count": 3,
   "metadata": {},
   "outputs": [
    {
     "data": {
      "text/plain": [
       "(array([[-0.78867513,  0.21132487,  0.57735027],\n",
       "        [ 0.21132487, -0.78867513,  0.57735027],\n",
       "        [ 0.57735027,  0.57735027,  0.57735027]]),\n",
       " array([[-0.78867513,  0.21132487,  0.57735027],\n",
       "        [ 0.21132487, -0.78867513,  0.57735027],\n",
       "        [ 0.57735027,  0.57735027,  0.57735027]]))"
      ]
     },
     "execution_count": 3,
     "metadata": {},
     "output_type": "execute_result"
    }
   ],
   "source": [
    "d = align_pi_plane_with_axes_rot()\n",
    "d, np.linalg.inv(d)"
   ]
  },
  {
   "cell_type": "markdown",
   "metadata": {},
   "source": [
    "# Test the two methods"
   ]
  },
  {
   "cell_type": "code",
   "execution_count": 4,
   "metadata": {},
   "outputs": [
    {
     "data": {
      "text/plain": [
       "(array([[ 1.50000000e+00, -5.79375858e-17,  5.30847167e-17],\n",
       "        [-5.79375858e-17,  1.50000000e+00,  5.30847167e-17],\n",
       "        [ 0.00000000e+00,  0.00000000e+00,  0.00000000e+00]]),\n",
       " array([[ 1. , -0.5, -0.5],\n",
       "        [-0.5,  1. , -0.5],\n",
       "        [-0.5, -0.5,  1. ]]))"
      ]
     },
     "execution_count": 4,
     "metadata": {},
     "output_type": "execute_result"
    }
   ],
   "source": [
    "P_vm = np.array([[1, -0.5, -0.5],\n",
    "                     [-0.5, 1, -0.5],\n",
    "                     [-0.5, -0.5, 1]])\n",
    "P_vm_pi_plane = d @ P_vm @ d\n",
    "P_vm_pi_plane, d @ P_vm_pi_plane @ d"
   ]
  },
  {
   "cell_type": "code",
   "execution_count": 5,
   "metadata": {},
   "outputs": [
    {
     "data": {
      "text/plain": [
       "(array([[1., 0., 0.],\n",
       "        [0., 1., 0.],\n",
       "        [0., 0., 1.]]),\n",
       " array([1., 1., 1.]))"
      ]
     },
     "execution_count": 5,
     "metadata": {},
     "output_type": "execute_result"
    }
   ],
   "source": [
    "X11, X12, X22, X13, X23, X33 = (np.random.random(1)[0], np.random.random(1)[0], np.random.random(1)[0], np.random.random(1)[0], np.random.random(1)[0], np.random.random(1)[0])\n",
    "A_rand = np.eye(3) #np.array([ [ X11, X12, X13 ], [ X12, X22, X23 ], [ X13, X23, X33 ] ])\n",
    "A_rand, np.linalg.eigvals(A_rand)"
   ]
  },
  {
   "cell_type": "markdown",
   "metadata": {},
   "source": [
    "# Method One: Original"
   ]
  },
  {
   "cell_type": "code",
   "execution_count": 23,
   "metadata": {},
   "outputs": [
    {
     "data": {
      "text/plain": [
       "array([[ 1.00000000e+00, -7.56324913e-17,  0.00000000e+00],\n",
       "       [-7.56324913e-17,  1.00000000e+00,  0.00000000e+00],\n",
       "       [ 0.00000000e+00,  0.00000000e+00,  1.00000000e+00]])"
      ]
     },
     "execution_count": 23,
     "metadata": {},
     "output_type": "execute_result"
    }
   ],
   "source": [
    "d_A = d @ A_rand @ d\n",
    "d_A[:,2] = 0\n",
    "d_A[2,:] = 0\n",
    "d_A[2,2] = 1\n",
    "d_A"
   ]
  },
  {
   "cell_type": "code",
   "execution_count": 24,
   "metadata": {},
   "outputs": [
    {
     "data": {
      "text/plain": [
       "(array([[ 1.00000000e+00, -1.31143643e-16,  3.53898111e-17],\n",
       "        [-1.31143643e-16,  1.00000000e+00,  3.53898111e-17],\n",
       "        [ 3.53898111e-17,  3.53898111e-17,  1.00000000e+00]]),\n",
       " 0.9999999999999999)"
      ]
     },
     "execution_count": 24,
     "metadata": {},
     "output_type": "execute_result"
    }
   ],
   "source": [
    "dd_A = d @ d_A @ d\n",
    "dd_A\n",
    "dd_A, np.linalg.norm(dd_A[:,2])"
   ]
  },
  {
   "cell_type": "code",
   "execution_count": 25,
   "metadata": {},
   "outputs": [
    {
     "data": {
      "text/plain": [
       "array([[ 1. , -0.5, -0.5],\n",
       "       [-0.5,  1. , -0.5],\n",
       "       [-0.5, -0.5,  1. ]])"
      ]
     },
     "execution_count": 25,
     "metadata": {},
     "output_type": "execute_result"
    }
   ],
   "source": [
    "P_real_orig = dd_A.T @ P_vm @ dd_A\n",
    "P_real_orig"
   ]
  },
  {
   "cell_type": "markdown",
   "metadata": {},
   "source": [
    "# Method 2: Other Way Around"
   ]
  },
  {
   "cell_type": "code",
   "execution_count": 9,
   "metadata": {},
   "outputs": [
    {
     "data": {
      "text/plain": [
       "array([[ 1.50000000e+00, -5.79375858e-17,  5.30847167e-17],\n",
       "       [-5.79375858e-17,  1.50000000e+00,  5.30847167e-17],\n",
       "       [ 0.00000000e+00,  0.00000000e+00,  0.00000000e+00]])"
      ]
     },
     "execution_count": 9,
     "metadata": {},
     "output_type": "execute_result"
    }
   ],
   "source": [
    "red_P_vm_pi = P_vm_pi_plane\n",
    "red_P_vm_pi"
   ]
  },
  {
   "cell_type": "code",
   "execution_count": 26,
   "metadata": {},
   "outputs": [
    {
     "data": {
      "text/plain": [
       "array([[ 1.00000000e+00, -7.56324913e-17,  0.00000000e+00],\n",
       "       [-7.56324913e-17,  1.00000000e+00,  0.00000000e+00],\n",
       "       [ 0.00000000e+00,  0.00000000e+00,  1.00000000e+00]])"
      ]
     },
     "execution_count": 26,
     "metadata": {},
     "output_type": "execute_result"
    }
   ],
   "source": [
    "d_A_red = d_A\n",
    "d_A_red"
   ]
  },
  {
   "cell_type": "code",
   "execution_count": 27,
   "metadata": {},
   "outputs": [
    {
     "data": {
      "text/plain": [
       "array([[ 1.50000000e+00, -2.84835060e-16,  5.30847167e-17],\n",
       "       [-2.84835060e-16,  1.50000000e+00,  5.30847167e-17],\n",
       "       [ 0.00000000e+00,  0.00000000e+00,  0.00000000e+00]])"
      ]
     },
     "execution_count": 27,
     "metadata": {},
     "output_type": "execute_result"
    }
   ],
   "source": [
    "red_P_real_pi = d_A_red.T @ red_P_vm_pi @ d_A_red\n",
    "red_P_real_pi"
   ]
  },
  {
   "cell_type": "code",
   "execution_count": 29,
   "metadata": {},
   "outputs": [
    {
     "data": {
      "text/plain": [
       "(array([[ 1. , -0.5, -0.5],\n",
       "        [-0.5,  1. , -0.5],\n",
       "        [-0.5, -0.5,  1. ]]),\n",
       " array([[ 1. , -0.5, -0.5],\n",
       "        [-0.5,  1. , -0.5],\n",
       "        [-0.5, -0.5,  1. ]]))"
      ]
     },
     "execution_count": 29,
     "metadata": {},
     "output_type": "execute_result"
    }
   ],
   "source": [
    "P_real_orig, d @ red_P_real_pi @ d"
   ]
  },
  {
   "cell_type": "code",
   "execution_count": null,
   "metadata": {},
   "outputs": [],
   "source": []
  }
 ],
 "metadata": {
  "kernelspec": {
   "display_name": "stbingo",
   "language": "python",
   "name": "python3"
  },
  "language_info": {
   "codemirror_mode": {
    "name": "ipython",
    "version": 3
   },
   "file_extension": ".py",
   "mimetype": "text/x-python",
   "name": "python",
   "nbconvert_exporter": "python",
   "pygments_lexer": "ipython3",
   "version": "3.11.9"
  }
 },
 "nbformat": 4,
 "nbformat_minor": 2
}
