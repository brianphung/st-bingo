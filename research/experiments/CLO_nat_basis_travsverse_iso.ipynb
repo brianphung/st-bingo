{
 "cells": [
  {
   "cell_type": "code",
   "execution_count": null,
   "metadata": {},
   "outputs": [],
   "source": [
    "import sympy as sp\n",
    "from numpy import array\n",
    "import numpy as np\n",
    "from sympy import init_printing\n",
    "init_printing(use_latex='mathjax')\n",
    "import scipy\n",
    "\n",
    "\n",
    "sqrt2 = np.sqrt(2)\n",
    "sqrt3 = np.sqrt(3)\n",
    "upper_triangle_idx  =np.triu_indices(5)"
   ]
  },
  {
   "cell_type": "code",
   "execution_count": null,
   "metadata": {},
   "outputs": [],
   "source": [
    "\n",
    "def remove_hydrostatic_dependence(data, transpose_data):\n",
    "    # Get the rotation matrix with full precision\n",
    "\n",
    "\n",
    "    d = 1./np.sqrt(6) * np.array( [[ sqrt2, sqrt2, sqrt2, 0, 0, 0  ],\n",
    "                                   [ -1, -1, 2, 0, 0, 0],\n",
    "                                   [-sqrt3, sqrt3, 0, 0, 0, 0],\n",
    "                                   [0, 0, 0, 2*sqrt3, 0, 0],\n",
    "                                   [0, 0, 0, 0, 2*sqrt3, 0],\n",
    "                                   [0, 0, 0, 0, 0, 2*sqrt3] ])\n",
    "\n",
    "    # Isolate stress\n",
    "    stress_vectors = data[:,0:6]\n",
    "    stress_vectors_T = transpose_data[:, 0:6]\n",
    "\n",
    "    # # Shift the X_0 up a tiny bit\n",
    "    # data[:,6] += 1e-6\n",
    "    # transpose_data[:,6] += 1e-6\n",
    "\n",
    "    # Rotate to natural basis\n",
    "    stress_vectors = (d @ stress_vectors.T).T\n",
    "    stress_vectors_T = (d @ stress_vectors_T.T).T\n",
    "    #print(np.shape(stress_vectors_T), np.shape(transpose_data[:,3].T))\n",
    "\n",
    "    # We assert that there should be hydrostatic stress independence. Therefore, we only solve for the 5x5 submatrix\n",
    "    data = np.column_stack([stress_vectors[:,1:6], data[:,6].T ])\n",
    "    transpose_data = np.column_stack( [stress_vectors_T[:, 1:6], transpose_data[:,6].T ])\n",
    "\n",
    "    return data, transpose_data"
   ]
  },
  {
   "cell_type": "code",
   "execution_count": null,
   "metadata": {},
   "outputs": [],
   "source": [
    "# load data\n",
    "hill_data_path = \"../data_6x6/processed_data/transverse_iso_6x6_bingo.csv\"\n",
    "hill_transposed_data_path = \"../data_6x6/processed_data/transverse_iso_6x6_bingo_transpose.csv\"\n",
    "data_pre = np.loadtxt(hill_data_path)\n",
    "transposed_data_pre = np.loadtxt(hill_transposed_data_path)"
   ]
  },
  {
   "cell_type": "code",
   "execution_count": null,
   "metadata": {},
   "outputs": [],
   "source": [
    "data, transposed_data = remove_hydrostatic_dependence(data_pre, transposed_data_pre)\n",
    "eqps_0_data = np.isclose(data[:,5],0.0)\n",
    "#print(eqps_0_data)\n",
    "data = data[eqps_0_data,:]\n",
    "eqps_0_trans_data = np.isclose(transposed_data[:,5],0.0)\n",
    "transposed_data = transposed_data[eqps_0_trans_data, :]\n",
    "data, transposed_data"
   ]
  },
  {
   "cell_type": "code",
   "execution_count": null,
   "metadata": {},
   "outputs": [],
   "source": [
    "def objective(params):\n",
    "    #print(params)\n",
    "    # fill a P matrix that has the params:\n",
    "    candidate_P = np.array( [[ params[0], params[1], 0, 0, 0 ],\n",
    "                             [ params[1], params[2], 0, 0, 0],\n",
    "                             [ 0, 0, params[3], 0, 0],\n",
    "                             [ 0, 0, 0, params[4], 0],\n",
    "                             [0, 0, 0, 0, params[5] ]\n",
    "                             ] )\n",
    "    #print(candidate_P)\n",
    "    residual = np.zeros(len(data))\n",
    "    for i, stress_vec in enumerate(data):\n",
    "        sv = stress_vec[0:5]\n",
    "        current_ys =  sv @ candidate_P @ sv \n",
    "        error = current_ys - 100\n",
    "\n",
    "        residual[i] = error\n",
    "        \n",
    "    #print(scipy.linalg.norm(residual))\n",
    "    return np.sum(np.abs(residual))\n",
    "    \n"
   ]
  },
  {
   "cell_type": "code",
   "execution_count": null,
   "metadata": {},
   "outputs": [],
   "source": [
    "initial_guess = np.array([ 9/2, 0.0, 31/2, 2, 2, 1.0 ])\n",
    "result = scipy.optimize.minimize(objective, initial_guess, method = 'SLSQP', options={'fatol':1e-6, 'maxiter':1e5})\n",
    "print(result)"
   ]
  },
  {
   "cell_type": "code",
   "execution_count": null,
   "metadata": {},
   "outputs": [],
   "source": [
    "params = result.x\n",
    "candidate_P = np.array( [[ params[0], params[1], 0, 0, 0 ],\n",
    "                             [ params[1], params[2], 0, 0, 0],\n",
    "                             [ 0, 0, params[3], 0, 0],\n",
    "                             [ 0, 0, 0, params[4], 0],\n",
    "                             [0, 0, 0, 0, params[5] ]\n",
    "                             ] )\n",
    "#print(candidate_P)\n",
    "residual = np.zeros(len(data))\n",
    "for i, stress_vec in enumerate(data):\n",
    "    sv = stress_vec[0:5]\n",
    "    current_ys =  sv @ candidate_P @ sv \n",
    "    error = current_ys - 100\n",
    "\n",
    "    residual[i] = error\n",
    "print(candidate_P)\n",
    "print(residual)"
   ]
  },
  {
   "cell_type": "code",
   "execution_count": null,
   "metadata": {},
   "outputs": [],
   "source": []
  }
 ],
 "metadata": {
  "kernelspec": {
   "display_name": "stbingo",
   "language": "python",
   "name": "python3"
  },
  "language_info": {
   "codemirror_mode": {
    "name": "ipython",
    "version": 3
   },
   "file_extension": ".py",
   "mimetype": "text/x-python",
   "name": "python",
   "nbconvert_exporter": "python",
   "pygments_lexer": "ipython3",
   "version": "3.11.9"
  }
 },
 "nbformat": 4,
 "nbformat_minor": 2
}
