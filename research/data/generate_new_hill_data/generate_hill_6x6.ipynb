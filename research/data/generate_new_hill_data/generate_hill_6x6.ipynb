{
 "cells": [
  {
   "cell_type": "code",
   "execution_count": 12,
   "metadata": {},
   "outputs": [],
   "source": [
    "import numpy as np\n",
    "import csv\n"
   ]
  },
  {
   "cell_type": "code",
   "execution_count": 13,
   "metadata": {},
   "outputs": [],
   "source": [
    "H = 7\n",
    "G = 1.5\n",
    "F = 1.5\n",
    "N = 1\n",
    "L = 2\n",
    "M = 2\n",
    "transform_matrix = np.array( [ [ (H+G), -H, -G, 0, 0, 0 ], [ -H, (F+H), -F, 0, 0, 0 ], [ -G, -F, (F+G), 0, 0, 0 ], [ 0, 0, 0, 2*N, 0, 0 ], [ 0, 0, 0, 0, 2*L, 0], [ 0, 0, 0, 0, 0, 2*M] ])"
   ]
  },
  {
   "cell_type": "code",
   "execution_count": 14,
   "metadata": {},
   "outputs": [
    {
     "data": {
      "text/plain": [
       "array([[ 8.5, -7. , -1.5,  0. ,  0. ,  0. ],\n",
       "       [-7. ,  8.5, -1.5,  0. ,  0. ,  0. ],\n",
       "       [-1.5, -1.5,  3. ,  0. ,  0. ,  0. ],\n",
       "       [ 0. ,  0. ,  0. ,  2. ,  0. ,  0. ],\n",
       "       [ 0. ,  0. ,  0. ,  0. ,  4. ,  0. ],\n",
       "       [ 0. ,  0. ,  0. ,  0. ,  0. ,  4. ]])"
      ]
     },
     "metadata": {},
     "output_type": "display_data"
    }
   ],
   "source": [
    "display(transform_matrix)"
   ]
  },
  {
   "cell_type": "code",
   "execution_count": 15,
   "metadata": {},
   "outputs": [],
   "source": [
    "def test_hill_YS(stress_vector):\n",
    "    s11 = stress_vector[0]\n",
    "    s22 = stress_vector[1]\n",
    "    s33 = stress_vector[2]\n",
    "    s23 = stress_vector[3]\n",
    "    s13 = stress_vector[4]\n",
    "    s12 = stress_vector[5]\n",
    "    hill_yield = np.sqrt(F*(s22 - s33)**2 + G*(s33 - s11)**2 + H*(s11 - s22)**2 + 2*L*s23 + 2*M*s13**2 + 2*N*s12**2)\n",
    "    return hill_yield"
   ]
  },
  {
   "cell_type": "code",
   "execution_count": 4,
   "metadata": {},
   "outputs": [],
   "source": [
    "def von_mises_stress(voigt_stress):\n",
    "    sigma_11 = voigt_stress[0]\n",
    "    sigma_22 = voigt_stress[1]\n",
    "    sigma_33 = voigt_stress[2]\n",
    "    sigma_23 = voigt_stress[3]\n",
    "    sigma_13 = voigt_stress[4]\n",
    "    sigma_12 = voigt_stress[5]\n",
    "    vm_sq = 1/2*( (sigma_11 - sigma_22)**2 + (sigma_22 - sigma_33)**2 + (sigma_33 - sigma_11)**2 + 6*(sigma_23**2 + sigma_13**2 + sigma_12**2) )\n",
    "    return np.sqrt(vm_sq) * 100.0\n",
    "axial_and_shear_pairs = []\n",
    "for uniax in np.linspace(0,1,5):\n",
    "    equiv_shear = np.sqrt((1. - uniax**2)/3)\n",
    "    axial_and_shear_pairs.append([uniax, equiv_shear])\n"
   ]
  },
  {
   "cell_type": "code",
   "execution_count": 5,
   "metadata": {},
   "outputs": [],
   "source": [
    "s11_12 = [ [s11, 0, 0, s12, 0, 0] for s11, s12 in axial_and_shear_pairs ]\n",
    "s11_13 = [ [s11, 0, 0, 0, 0, s13] for s11, s13 in axial_and_shear_pairs ]\n",
    "s11_23 = [ [s11, 0, 0, 0, s23, 0] for s11, s23 in axial_and_shear_pairs ]\n",
    "s22_12 = [ [0, s22, 0, s12, 0, 0] for s22, s12 in axial_and_shear_pairs ]\n",
    "s22_13 = [ [0, s22, 0, 0, 0, s13] for s22, s13 in axial_and_shear_pairs ]\n",
    "s22_23 = [ [0, s22, 0, 0, s23, 0] for s22, s23 in axial_and_shear_pairs ]\n",
    "s33_12 = [ [0, 0, s33, s12, 0, 0] for s33, s12 in axial_and_shear_pairs ]\n",
    "s33_13 = [ [0, 0, s33, 0, 0, s13] for s33, s13 in axial_and_shear_pairs ]\n",
    "s33_23 = [ [0, 0, s33, 0, s23, 0] for s33, s23 in axial_and_shear_pairs ]\n",
    "all_stress_combos = s11_12 + s11_13 + s11_23 + s22_12 + s22_13 + s22_23 + s33_12 + s33_13 + s33_23\n",
    "for s in all_stress_combos: \n",
    "    vm_stress = von_mises_stress(s)\n",
    "    assert(vm_stress == 1.0)"
   ]
  },
  {
   "cell_type": "code",
   "execution_count": 10,
   "metadata": {},
   "outputs": [],
   "source": [
    "def test_hill_YS(stress_vector):\n",
    "    s11 = stress_vector[0]\n",
    "    s22 = stress_vector[1]\n",
    "    s33 = stress_vector[2]\n",
    "    s23 = stress_vector[3]\n",
    "    s13 = stress_vector[4]\n",
    "    s12 = stress_vector[5]\n",
    "    hill_yield = np.sqrt(F*(s22 - s33)**2 + G*(s33 - s11)**2 + H*(s11 - s22)**2 + 2*L*s23 + 2*M*s13**2 + 2*N*s12**2)\n",
    "    return hill_yield"
   ]
  },
  {
   "cell_type": "code",
   "execution_count": 11,
   "metadata": {},
   "outputs": [
    {
     "name": "stdout",
     "output_type": "stream",
     "text": [
      "[0.         0.         0.         1.15470054 0.         0.        ] 2.149139863647084\n",
      "[ 2.         -1.75       -0.25        1.11803399  0.          0.        ] 10.498673056867691\n",
      "[ 4.  -3.5 -0.5  1.   0.   0. ] 20.663978319771825\n",
      "[ 6.         -5.25       -0.75        0.76376262  0.          0.        ] 30.899919910305655\n",
      "[ 8. -7. -1.  0.  0.  0.] 41.13392760240627\n",
      "[0.         0.         0.         0.         0.         2.30940108] 3.265986323710904\n",
      "[ 2.         -1.75       -0.25        0.          0.          2.23606798] 10.758717395675006\n",
      "[ 4.  -3.5 -0.5  0.   0.   2. ] 20.760539492026695\n",
      "[ 6.         -5.25       -0.75        0.          0.          1.52752523] 30.92598691499863\n",
      "[ 8. -7. -1.  0.  0.  0.] 41.13392760240627\n",
      "[0.         0.         0.         0.         2.30940108 0.        ] 4.618802153517006\n",
      "[ 2.         -1.75       -0.25        0.          2.23606798  0.        ] 11.213830746002902\n",
      "[ 4.  -3.5 -0.5  0.   2.   0. ] 20.952326839756964\n",
      "[ 6.         -5.25       -0.75        0.          1.52752523  0.        ] 31.001344056884587\n",
      "[ 8. -7. -1.  0.  0.  0.] 41.13392760240627\n",
      "[0.         0.         0.         1.15470054 0.         0.        ] 2.149139863647084\n",
      "[-1.75        2.         -0.25        1.11803399  0.          0.        ] 10.498673056867691\n",
      "[-3.5  4.  -0.5  1.   0.   0. ] 20.663978319771825\n",
      "[-5.25        6.         -0.75        0.76376262  0.          0.        ] 30.899919910305655\n",
      "[-7.  8. -1.  0.  0.  0.] 41.13392760240627\n",
      "[0.         0.         0.         0.         0.         2.30940108] 3.265986323710904\n",
      "[-1.75        2.         -0.25        0.          0.          2.23606798] 10.758717395675006\n",
      "[-3.5  4.  -0.5  0.   0.   2. ] 20.760539492026695\n",
      "[-5.25        6.         -0.75        0.          0.          1.52752523] 30.92598691499863\n",
      "[-7.  8. -1.  0.  0.  0.] 41.13392760240627\n",
      "[0.         0.         0.         0.         2.30940108 0.        ] 4.618802153517006\n",
      "[-1.75        2.         -0.25        0.          2.23606798  0.        ] 11.213830746002902\n",
      "[-3.5  4.  -0.5  0.   2.   0. ] 20.952326839756964\n",
      "[-5.25        6.         -0.75        0.          1.52752523  0.        ] 31.001344056884587\n",
      "[-7.  8. -1.  0.  0.  0.] 41.13392760240627\n",
      "[0.         0.         0.         1.15470054 0.         0.        ] 2.149139863647084\n",
      "[-0.25       -0.25        0.5         1.11803399  0.          0.        ] 2.3658266958929133\n",
      "[-0.5 -0.5  1.   1.   0.   0. ] 2.9154759474226504\n",
      "[-0.75       -0.75        1.5         0.76376262  0.          0.        ] 3.6304339221784345\n",
      "[-1. -1.  2.  0.  0.  0.] 4.242640687119285\n",
      "[0.         0.         0.         0.         0.         2.30940108] 3.265986323710904\n",
      "[-0.25       -0.25        0.5         0.          0.          2.23606798] 3.3354160160315836\n",
      "[-0.5 -0.5  1.   0.   0.   2. ] 3.5355339059327378\n",
      "[-0.75       -0.75        1.5         0.          0.          1.52752523] 3.8459935864047754\n",
      "[-1. -1.  2.  0.  0.  0.] 4.242640687119285\n",
      "[0.         0.         0.         0.         2.30940108 0.        ] 4.618802153517006\n",
      "[-0.25       -0.25        0.5         0.          2.23606798  0.        ] 4.59619407771256\n",
      "[-0.5 -0.5  1.   0.   2.   0. ] 4.527692569068709\n",
      "[-0.75       -0.75        1.5         0.          1.52752523  0.        ] 4.411160089288682\n",
      "[-1. -1.  2.  0.  0.  0.] 4.242640687119285\n"
     ]
    }
   ],
   "source": [
    "stresses = []\n",
    "for stress in all_stress_combos:\n",
    "    stress = np.array(stress)\n",
    "    new_yield_stress = transform_matrix @ stress\n",
    "    stresses.append(list(new_yield_stress))\n",
    "stresses = np.array(stresses)\n",
    "\n",
    "for stress_vec in stresses:\n",
    "    print(stress_vec, test_hill_YS(stress_vec))\n",
    "\n",
    "\n",
    "# with open('epvm_eq_0.csv', 'wb') as myfile:\n",
    "#     wr = csv.writer(myfile, quoting=csv.QUOTE_ALL)\n",
    "#     wr.writerow(stresses)\n",
    "\n",
    "np.savetxt('epvm_eq_0.csv', stresses, delimiter=\",\")"
   ]
  },
  {
   "cell_type": "code",
   "execution_count": null,
   "metadata": {},
   "outputs": [],
   "source": [
    "stresses_evmp = []\n",
    "for stress in all_stress_combos:\n",
    "    stress = np.array(stress)\n",
    "    new_yield_stress = (1.1*transform_matrix) @ stress\n",
    "    stresses_evmp.append(list(new_yield_stress))\n",
    "stresses_evmp = np.array(stresses_evmp)\n",
    "print(stresses_evmp)\n",
    "\n",
    "np.savetxt('epvm_deq_0.csv', stresses_evmp, delimiter=\",\")"
   ]
  },
  {
   "cell_type": "code",
   "execution_count": null,
   "metadata": {},
   "outputs": [],
   "source": [
    "stresses_evmp = []\n",
    "for stress in all_stress_combos:\n",
    "    stress = np.array(stress)\n",
    "    new_yield_stress = (1.2*transform_matrix) @ stress\n",
    "    stresses_evmp.append(list(new_yield_stress))\n",
    "stresses_evmp = np.array(stresses_evmp)\n",
    "print(stresses_evmp)\n",
    "\n",
    "np.savetxt('epvm_deq_1.csv', stresses_evmp, delimiter=\",\")"
   ]
  },
  {
   "cell_type": "code",
   "execution_count": null,
   "metadata": {},
   "outputs": [],
   "source": [
    "stresses_evmp = []\n",
    "for stress in all_stress_combos:\n",
    "    stress = np.array(stress)\n",
    "    new_yield_stress = (1.3*transform_matrix) @ stress\n",
    "    stresses_evmp.append(list(new_yield_stress))\n",
    "stresses_evmp = np.array(stresses_evmp)\n",
    "print(stresses_evmp)\n",
    "\n",
    "np.savetxt('epvm_deq_2.csv', stresses_evmp, delimiter=\",\")"
   ]
  },
  {
   "cell_type": "code",
   "execution_count": null,
   "metadata": {},
   "outputs": [],
   "source": [
    "stresses_evmp = []\n",
    "for stress in all_stress_combos:\n",
    "    stress = np.array(stress)\n",
    "    new_yield_stress = (1.4*transform_matrix) @ stress\n",
    "    stresses_evmp.append(list(new_yield_stress))\n",
    "stresses_evmp = np.array(stresses_evmp)\n",
    "print(stresses_evmp)\n",
    "\n",
    "np.savetxt('epvm_deq_4.csv', stresses_evmp, delimiter=\",\")"
   ]
  }
 ],
 "metadata": {
  "kernelspec": {
   "display_name": "stbingo",
   "language": "python",
   "name": "python3"
  },
  "language_info": {
   "codemirror_mode": {
    "name": "ipython",
    "version": 3
   },
   "file_extension": ".py",
   "mimetype": "text/x-python",
   "name": "python",
   "nbconvert_exporter": "python",
   "pygments_lexer": "ipython3",
   "version": "3.10.14"
  }
 },
 "nbformat": 4,
 "nbformat_minor": 2
}
