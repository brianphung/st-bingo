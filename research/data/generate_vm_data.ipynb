{
 "cells": [
  {
   "cell_type": "code",
   "execution_count": 1,
   "metadata": {},
   "outputs": [],
   "source": [
    "import numpy as np\n",
    "import csv\n",
    "import matplotlib.pyplot as plt\n",
    "import copy"
   ]
  },
  {
   "cell_type": "code",
   "execution_count": 2,
   "metadata": {},
   "outputs": [
    {
     "data": {
      "text/plain": [
       "(-109.96101722357977, 109.96101722357979, -109.85118304606, 109.99291347838381)"
      ]
     },
     "execution_count": 2,
     "metadata": {},
     "output_type": "execute_result"
    },
    {
     "data": {
      "image/png": "[encoded data removed]",
      "text/plain": [
       "<Figure size 640x480 with 1 Axes>"
      ]
     },
     "metadata": {},
     "output_type": "display_data"
    }
   ],
   "source": [
    "Y_rad = 100\n",
    "\n",
    "def generate_S1_S2(Y_rad, number_of_points = 60):\n",
    "    angles = np.linspace(0, 2*np.pi, number_of_points)\n",
    "    x = Y_rad*np.sin(angles)\n",
    "    y = Y_rad*np.cos(angles)\n",
    "    return x,y\n",
    "\n",
    "\n",
    "def align_pi_plane_with_axes_rot():\n",
    "    \"\"\"\n",
    "    Returns a matrix that rotates the pi plane's normal to be the z axis\n",
    "    i.e., a slice of pi plane becomes the xy plane after rotation\n",
    "    \"\"\"\n",
    "    pi_vector = np.array([1, 1, 1]) / np.sqrt(3.)\n",
    "    # wanted_vector = np.array([1, 0, 0])\n",
    "    wanted_vector = np.array([0, 0, 1])\n",
    "    wanted_vector = wanted_vector / np.linalg.norm(wanted_vector)\n",
    "    added = (pi_vector + wanted_vector).reshape([-1, 1])\n",
    "    # from Rodrigues' rotation formula, more info here: https://math.stackexchange.com/a/2672702\n",
    "    rot_mat = 2 * (added @ added.T) / (added.T @ added) - np.eye(3)\n",
    "    return rot_mat\n",
    "\n",
    "\n",
    "def align_axes_with_pi_plane_rot():\n",
    "    \"\"\"\n",
    "    Returns a matrix that undoes the align_pi_plane_with_axes_rot rotation\n",
    "    \"\"\"\n",
    "    return np.linalg.inv(align_pi_plane_with_axes_rot())\n",
    "\n",
    "testx, testy = generate_S1_S2(Y_rad)\n",
    "plt.plot(testx, testy, '.')\n",
    "plt.axis('equal')"
   ]
  },
  {
   "cell_type": "code",
   "execution_count": 3,
   "metadata": {},
   "outputs": [],
   "source": [
    "d_dict = { 'Y': 10, 'H': 990 }\n",
    "Y_func = lambda eqps, d_dict: (d_dict['Y'] + eqps*d_dict['H'])\n",
    "\n",
    "# generate Pi plane S1,S2 for various eqps\n",
    "number_of_eqps_values = 21\n",
    "number_of_stress_strain_curves = 60\n",
    "eqps_values = np.array([ i*0.01 for i in range(number_of_eqps_values) ])\n",
    "\n",
    "all_data = []\n",
    "implicit_formatted_data = [ [] for i in range(number_of_eqps_values) ]\n",
    "\n",
    "for i, eqps in enumerate(eqps_values):\n",
    "    Y_rad = Y_func(eqps, d_dict)\n",
    "    # All this data corresponds to a single eqps value\n",
    "    testx, testy = generate_S1_S2(Y_rad, number_of_stress_strain_curves)\n",
    "    testz = np.zeros(len(testx))\n",
    "    # This can be immediately entered into implicit data after rotation\n",
    "    stresses_pi = np.column_stack([testx, testy, testz])\n",
    "    # Rotate these stresses out of pi plane\n",
    "    stresses = stresses_pi @ align_pi_plane_with_axes_rot()\n",
    "    eqps_col = np.ones(len(testx))*eqps\n",
    "    stresses = np.column_stack([stresses, eqps_col])\n",
    "    all_data.append(stresses)\n",
    "\n",
    "    implicit_formatted_data[i] = stresses\n",
    "\n",
    "all_data = np.array(all_data)\n",
    "\n",
    "explicit_formatted_data = None\n",
    "\n",
    "nan_line = np.array([np.nan for i in range(4)])\n",
    "\n",
    "# Build the explicit formatted array\n",
    "for ss_curve in range(number_of_stress_strain_curves):\n",
    "    # Grab all in this index along ss_curve\n",
    "    yield_traj = all_data[:,ss_curve]\n",
    "    if ss_curve == 0:\n",
    "        explicit_formatted_data = yield_traj\n",
    "    else:\n",
    "        explicit_formatted_data = np.vstack([explicit_formatted_data, yield_traj])\n",
    "    if ss_curve != number_of_stress_strain_curves - 1:\n",
    "        explicit_formatted_data = np.vstack([explicit_formatted_data, nan_line])\n",
    "    \n",
    "implicit_formatted_data_copy = copy.copy(implicit_formatted_data)\n",
    "implicit_formatted_data = None\n",
    "for i, e in enumerate(implicit_formatted_data_copy):\n",
    "    if i == 0:\n",
    "        implicit_formatted_data = e\n",
    "    else:\n",
    "        implicit_formatted_data = np.vstack([implicit_formatted_data, e])\n",
    "    if i != (number_of_eqps_values-1):\n",
    "        implicit_formatted_data = np.vstack([implicit_formatted_data, nan_line])\n",
    "\n",
    "#print(implicit_formatted_data)\n",
    "\n",
    "n = 1\n",
    "np.savetxt(f\"processed_data/vm_{n}_transpose_bingo_format.txt\", implicit_formatted_data)\n",
    "np.savetxt(f\"processed_data/vm_{n}_bingo_format.txt\", explicit_formatted_data)"
   ]
  },
  {
   "cell_type": "code",
   "execution_count": null,
   "metadata": {},
   "outputs": [],
   "source": []
  }
 ],
 "metadata": {
  "kernelspec": {
   "display_name": "stbingo",
   "language": "python",
   "name": "python3"
  },
  "language_info": {
   "codemirror_mode": {
    "name": "ipython",
    "version": 3
   },
   "file_extension": ".py",
   "mimetype": "text/x-python",
   "name": "python",
   "nbconvert_exporter": "python",
   "pygments_lexer": "ipython3",
   "version": "3.10.14"
  }
 },
 "nbformat": 4,
 "nbformat_minor": 2
}
