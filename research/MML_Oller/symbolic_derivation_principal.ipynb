{
 "cells": [
  {
   "cell_type": "code",
   "execution_count": 1,
   "metadata": {},
   "outputs": [],
   "source": [
    "import sympy as sp\n",
    "from sympy import init_printing\n",
    "init_printing(use_latex='mathjax')"
   ]
  },
  {
   "cell_type": "markdown",
   "metadata": {},
   "source": []
  },
  {
   "cell_type": "code",
   "execution_count": 3,
   "metadata": {},
   "outputs": [],
   "source": [
    "sigma = sp.symbols('sigma_1:4')\n",
    "sigma_1 = sigma[0]\n",
    "sigma_2 = sigma[1]\n",
    "sigma_3 = sigma[2]\n",
    "sigma_Y = sp.symbols('sigma_Y')"
   ]
  },
  {
   "cell_type": "code",
   "execution_count": 4,
   "metadata": {},
   "outputs": [
    {
     "data": {
      "text/latex": [
       "$\\displaystyle \\sqrt{\\frac{\\left(- \\sigma_{1} + \\sigma_{3}\\right)^{2}}{2} + \\frac{\\left(\\sigma_{1} - \\sigma_{2}\\right)^{2}}{2} + \\frac{\\left(\\sigma_{2} - \\sigma_{3}\\right)^{2}}{2}}$"
      ],
      "text/plain": [
       "     _______________________________________\n",
       "    ╱           2            2            2 \n",
       "   ╱  (-σ₁ + σ₃)    (σ₁ - σ₂)    (σ₂ - σ₃)  \n",
       "  ╱   ─────────── + ────────── + ────────── \n",
       "╲╱         2            2            2      "
      ]
     },
     "execution_count": 4,
     "metadata": {},
     "output_type": "execute_result"
    }
   ],
   "source": [
    "vm = sp.sqrt( (  (sigma_1 - sigma_2)**2 + (sigma_2 - sigma_3)**2 + (sigma_3 - sigma_1)**2  )/2 )\n",
    "vm"
   ]
  },
  {
   "cell_type": "code",
   "execution_count": 5,
   "metadata": {},
   "outputs": [
    {
     "data": {
      "text/latex": [
       "$\\displaystyle - \\sigma_{Y} + \\sqrt{\\frac{\\left(- \\sigma_{1} + \\sigma_{3}\\right)^{2}}{2} + \\frac{\\left(\\sigma_{1} - \\sigma_{2}\\right)^{2}}{2} + \\frac{\\left(\\sigma_{2} - \\sigma_{3}\\right)^{2}}{2}}$"
      ],
      "text/plain": [
       "            _______________________________________\n",
       "           ╱           2            2            2 \n",
       "          ╱  (-σ₁ + σ₃)    (σ₁ - σ₂)    (σ₂ - σ₃)  \n",
       "-σ_Y +   ╱   ─────────── + ────────── + ────────── \n",
       "       ╲╱         2            2            2      "
      ]
     },
     "execution_count": 5,
     "metadata": {},
     "output_type": "execute_result"
    }
   ],
   "source": [
    "yield_function = vm - sigma_Y\n",
    "yield_function"
   ]
  },
  {
   "cell_type": "code",
   "execution_count": 6,
   "metadata": {},
   "outputs": [
    {
     "data": {
      "text/latex": [
       "$\\displaystyle \\frac{\\sqrt{2} \\cdot \\left(2 \\sigma_{1} - \\sigma_{2} - \\sigma_{3}\\right)}{2 \\sqrt{\\left(\\sigma_{1} - \\sigma_{2}\\right)^{2} + \\left(\\sigma_{1} - \\sigma_{3}\\right)^{2} + \\left(\\sigma_{2} - \\sigma_{3}\\right)^{2}}}$"
      ],
      "text/plain": [
       "            √2⋅(2⋅σ₁ - σ₂ - σ₃)            \n",
       "───────────────────────────────────────────\n",
       "     ______________________________________\n",
       "    ╱          2            2            2 \n",
       "2⋅╲╱  (σ₁ - σ₂)  + (σ₁ - σ₃)  + (σ₂ - σ₃)  "
      ]
     },
     "metadata": {},
     "output_type": "display_data"
    },
    {
     "name": "stdout",
     "output_type": "stream",
     "text": [
      "sigma_1 = Symbol('sigma_1')\n",
      "sigma_2 = Symbol('sigma_2')\n",
      "sigma_3 = Symbol('sigma_3')\n",
      "e = sqrt(2)*(2*sigma_1 - sigma_2 - sigma_3)/(2*sqrt((sigma_1 - sigma_2)**2 + (sigma_1 - sigma_3)**2 + (sigma_2 - sigma_3)**2))\n"
     ]
    },
    {
     "data": {
      "text/latex": [
       "$\\displaystyle \\frac{\\sqrt{2} \\left(- \\sigma_{1} + 2 \\sigma_{2} - \\sigma_{3}\\right)}{2 \\sqrt{\\left(\\sigma_{1} - \\sigma_{2}\\right)^{2} + \\left(\\sigma_{1} - \\sigma_{3}\\right)^{2} + \\left(\\sigma_{2} - \\sigma_{3}\\right)^{2}}}$"
      ],
      "text/plain": [
       "            √2⋅(-σ₁ + 2⋅σ₂ - σ₃)           \n",
       "───────────────────────────────────────────\n",
       "     ______________________________________\n",
       "    ╱          2            2            2 \n",
       "2⋅╲╱  (σ₁ - σ₂)  + (σ₁ - σ₃)  + (σ₂ - σ₃)  "
      ]
     },
     "metadata": {},
     "output_type": "display_data"
    },
    {
     "name": "stdout",
     "output_type": "stream",
     "text": [
      "sigma_1 = Symbol('sigma_1')\n",
      "sigma_2 = Symbol('sigma_2')\n",
      "sigma_3 = Symbol('sigma_3')\n",
      "e = sqrt(2)*(-sigma_1 + 2*sigma_2 - sigma_3)/(2*sqrt((sigma_1 - sigma_2)**2 + (sigma_1 - sigma_3)**2 + (sigma_2 - sigma_3)**2))\n"
     ]
    },
    {
     "data": {
      "text/latex": [
       "$\\displaystyle \\frac{\\sqrt{2} \\left(- \\sigma_{1} - \\sigma_{2} + 2 \\sigma_{3}\\right)}{2 \\sqrt{\\left(\\sigma_{1} - \\sigma_{2}\\right)^{2} + \\left(\\sigma_{1} - \\sigma_{3}\\right)^{2} + \\left(\\sigma_{2} - \\sigma_{3}\\right)^{2}}}$"
      ],
      "text/plain": [
       "            √2⋅(-σ₁ - σ₂ + 2⋅σ₃)           \n",
       "───────────────────────────────────────────\n",
       "     ______________________________________\n",
       "    ╱          2            2            2 \n",
       "2⋅╲╱  (σ₁ - σ₂)  + (σ₁ - σ₃)  + (σ₂ - σ₃)  "
      ]
     },
     "metadata": {},
     "output_type": "display_data"
    },
    {
     "name": "stdout",
     "output_type": "stream",
     "text": [
      "sigma_1 = Symbol('sigma_1')\n",
      "sigma_2 = Symbol('sigma_2')\n",
      "sigma_3 = Symbol('sigma_3')\n",
      "e = sqrt(2)*(-sigma_1 - sigma_2 + 2*sigma_3)/(2*sqrt((sigma_1 - sigma_2)**2 + (sigma_1 - sigma_3)**2 + (sigma_2 - sigma_3)**2))\n"
     ]
    }
   ],
   "source": [
    "dGdS = []\n",
    "for i in range(3):\n",
    "    dGdS.append(yield_function.diff(sigma[i]).simplify())\n",
    "    display(dGdS[-1])\n",
    "    print(sp.python(dGdS[-1]))"
   ]
  },
  {
   "cell_type": "code",
   "execution_count": null,
   "metadata": {},
   "outputs": [],
   "source": []
  }
 ],
 "metadata": {
  "kernelspec": {
   "display_name": "mml2",
   "language": "python",
   "name": "python3"
  },
  "language_info": {
   "codemirror_mode": {
    "name": "ipython",
    "version": 3
   },
   "file_extension": ".py",
   "mimetype": "text/x-python",
   "name": "python",
   "nbconvert_exporter": "python",
   "pygments_lexer": "ipython3",
   "version": "3.12.3"
  }
 },
 "nbformat": 4,
 "nbformat_minor": 2
}
