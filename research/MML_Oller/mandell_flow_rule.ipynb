{
 "cells": [
  {
   "cell_type": "code",
   "execution_count": 1,
   "metadata": {},
   "outputs": [],
   "source": [
    "import sympy\n",
    "import sys\n",
    "import numpy as np\n",
    "sys.path.append('F:\\\\MML_Oller\\\\tensorconvert\\\\src\\\\')\n",
    "from tensorconvert import SecondOrderTensor, FourthOrderTensor\n",
    "\n",
    "sympy.init_printing(use_latex=\"mathjax\")"
   ]
  },
  {
   "cell_type": "code",
   "execution_count": 2,
   "metadata": {},
   "outputs": [],
   "source": [
    "def linear_elastic(eps):\n",
    "    dim = eps.shape[0]\n",
    "    lmbda, mu = sympy.symbols(\"lambda, mu\", positive=True)\n",
    "    f = lmbda * sympy.trace(eps) * sympy.eye(dim) + 2 * mu * eps\n",
    "    f = f.subs({lmbda: 7.479e6, mu: 3.751e6})\n",
    "    return f"
   ]
  },
  {
   "cell_type": "code",
   "execution_count": 3,
   "metadata": {},
   "outputs": [],
   "source": [
    "C4_obj = FourthOrderTensor().from_operator(linear_elastic)\n",
    "C4_sp = C4_obj.as_array()"
   ]
  },
  {
   "cell_type": "code",
   "execution_count": 4,
   "metadata": {},
   "outputs": [],
   "source": [
    "C4 = np.zeros((3,3,3,3))\n",
    "for i in range(3):\n",
    "    for j in range(3):\n",
    "        for k in range(3):\n",
    "            for l in range(3):\n",
    "                C4[i,j,k,l] = C4_sp[i,j,k,l]\n",
    "            \n"
   ]
  },
  {
   "cell_type": "code",
   "execution_count": 5,
   "metadata": {},
   "outputs": [
    {
     "data": {
      "text/latex": [
       "$\\displaystyle \\left[\\begin{matrix}14981000.0 & 7479000.0 & 7479000.0 & 0 & 0 & 0\\\\7479000.0 & 14981000.0 & 7479000.0 & 0 & 0 & 0\\\\7479000.0 & 7479000.0 & 14981000.0 & 0 & 0 & 0\\\\0 & 0 & 0 & 7502000.0 & 0 & 0\\\\0 & 0 & 0 & 0 & 7502000.0 & 0\\\\0 & 0 & 0 & 0 & 0 & 7502000.0\\end{matrix}\\right]$"
      ],
      "text/plain": [
       "⎡14981000.0  7479000.0   7479000.0       0          0          0    ⎤\n",
       "⎢                                                                   ⎥\n",
       "⎢7479000.0   14981000.0  7479000.0       0          0          0    ⎥\n",
       "⎢                                                                   ⎥\n",
       "⎢7479000.0   7479000.0   14981000.0      0          0          0    ⎥\n",
       "⎢                                                                   ⎥\n",
       "⎢    0           0           0       7502000.0      0          0    ⎥\n",
       "⎢                                                                   ⎥\n",
       "⎢    0           0           0           0      7502000.0      0    ⎥\n",
       "⎢                                                                   ⎥\n",
       "⎣    0           0           0           0          0      7502000.0⎦"
      ]
     },
     "execution_count": 5,
     "metadata": {},
     "output_type": "execute_result"
    }
   ],
   "source": [
    "C4_obj.as_mandel()"
   ]
  },
  {
   "cell_type": "code",
   "execution_count": 6,
   "metadata": {},
   "outputs": [
    {
     "data": {
      "text/plain": [
       "array([[   0.        , 1382.32346212,    0.        ],\n",
       "       [1382.32346212,    0.        ,    0.        ],\n",
       "       [   0.        ,    0.        ,    0.        ]])"
      ]
     },
     "execution_count": 6,
     "metadata": {},
     "output_type": "execute_result"
    }
   ],
   "source": [
    "#sv = np.random.rand(6)*1000\n",
    "sv =  [   0.,            0.,            0.,           0. ,           0., 1382.32346212]\n",
    "stress_tensor = np.array([[sv[0], sv[5], sv[4]], [ sv[5], sv[1], sv[3] ], [ sv[4], sv[3], sv[2] ] ])\n",
    "stress_tensor"
   ]
  },
  {
   "cell_type": "code",
   "execution_count": 7,
   "metadata": {},
   "outputs": [
    {
     "data": {
      "text/latex": [
       "$\\displaystyle \\left[\\begin{matrix}0\\\\0\\\\0\\\\1382.32346212\\\\0\\\\0\\end{matrix}\\right]$"
      ],
      "text/plain": [
       "⎡      0      ⎤\n",
       "⎢             ⎥\n",
       "⎢      0      ⎥\n",
       "⎢             ⎥\n",
       "⎢      0      ⎥\n",
       "⎢             ⎥\n",
       "⎢1382.32346212⎥\n",
       "⎢             ⎥\n",
       "⎢      0      ⎥\n",
       "⎢             ⎥\n",
       "⎣      0      ⎦"
      ]
     },
     "execution_count": 7,
     "metadata": {},
     "output_type": "execute_result"
    }
   ],
   "source": [
    "stress_obj = SecondOrderTensor().from_array(stress_tensor)\n",
    "stress_vec = stress_obj.as_voigt_stress()\n",
    "stress_vec"
   ]
  },
  {
   "cell_type": "code",
   "execution_count": 8,
   "metadata": {},
   "outputs": [
    {
     "name": "stdout",
     "output_type": "stream",
     "text": [
      "[0 0 0 1.73205080756888 0 0] \n",
      " [[0 1.73205080756888 0]\n",
      " [1.73205080756888 0 0]\n",
      " [0 0 0]]\n"
     ]
    }
   ],
   "source": [
    "import math\n",
    "ROOT2 = math.sqrt(2)\n",
    "def dGdSVoigt(stress_vector):\n",
    "    sigma_1, sigma_2, sigma_3, sigma_4, sigma_5, sigma_6 = stress_vector\n",
    "    sigma_4 = sigma_4\n",
    "    sigma_5 = sigma_5\n",
    "    sigma_6 = sigma_6\n",
    "    denom = math.sqrt(6*sigma_4**2 + 6*sigma_5**2 + 6*sigma_6**2 + (sigma_1 - sigma_2)**2 + (sigma_1 - sigma_3)**2 + (sigma_2 - sigma_3)**2)\n",
    "    dGds1 = ROOT2*(2*sigma_1 - sigma_2 - sigma_3)/(2*denom)\n",
    "    dGds2 = ROOT2*(-sigma_1 + 2*sigma_2 - sigma_3)/(2*denom)\n",
    "    dGds3 = ROOT2*(-sigma_1 - sigma_2 + 2*sigma_3)/(2*denom)\n",
    "    dGds4 = 3*ROOT2*sigma_4/denom\n",
    "    dGds5 = 3*ROOT2*sigma_5/denom\n",
    "    dGds6 = 3*ROOT2*sigma_6/denom\n",
    "    dGdS_array = np.array([dGds1, dGds2, dGds3, dGds4, dGds5, dGds6])\n",
    "    #dGdS_array[3:] = dGdS_array[3:]\n",
    "    return dGdS_array\n",
    "    \n",
    "dYv = dGdSVoigt(stress_vec)\n",
    "dGdS_tensor = np.array([[dYv[0], dYv[3], dYv[4]], [dYv[3],dYv[1],dYv[5]], [dYv[4],dYv[5],dYv[2]]])\n",
    "print(dYv, '\\n', dGdS_tensor)"
   ]
  },
  {
   "cell_type": "code",
   "execution_count": 9,
   "metadata": {},
   "outputs": [
    {
     "data": {
      "text/latex": [
       "$\\displaystyle 45012000.0$"
      ],
      "text/plain": [
       "45012000.0000000"
      ]
     },
     "execution_count": 9,
     "metadata": {},
     "output_type": "execute_result"
    }
   ],
   "source": [
    "np.einsum('ij,ij', dGdS_tensor, np.einsum('ijkl,kl', C4, dGdS_tensor))"
   ]
  },
  {
   "cell_type": "code",
   "execution_count": 10,
   "metadata": {},
   "outputs": [
    {
     "data": {
      "text/latex": [
       "$\\displaystyle \\left[\\begin{matrix}0\\\\0\\\\0\\\\1.73205080756888 \\sqrt{2}\\\\0\\\\0\\end{matrix}\\right]$"
      ],
      "text/plain": [
       "⎡         0         ⎤\n",
       "⎢                   ⎥\n",
       "⎢         0         ⎥\n",
       "⎢                   ⎥\n",
       "⎢         0         ⎥\n",
       "⎢                   ⎥\n",
       "⎢1.73205080756888⋅√2⎥\n",
       "⎢                   ⎥\n",
       "⎢         0         ⎥\n",
       "⎢                   ⎥\n",
       "⎣         0         ⎦"
      ]
     },
     "execution_count": 10,
     "metadata": {},
     "output_type": "execute_result"
    }
   ],
   "source": [
    "dGdS_obj = SecondOrderTensor().from_array(dGdS_tensor)\n",
    "dGdS_obj.as_mandel()"
   ]
  },
  {
   "cell_type": "code",
   "execution_count": 11,
   "metadata": {},
   "outputs": [
    {
     "data": {
      "text/latex": [
       "$\\displaystyle 45012000.0$"
      ],
      "text/plain": [
       "45012000.0000000"
      ]
     },
     "execution_count": 11,
     "metadata": {},
     "output_type": "execute_result"
    }
   ],
   "source": [
    "dYv_copy = dYv.copy()\n",
    "dYv_copy[3:] = dYv_copy[3:] * ROOT2\n",
    "dYv_copy @ np.array(C4_obj.as_mandel()) @ dYv_copy"
   ]
  },
  {
   "cell_type": "code",
   "execution_count": 12,
   "metadata": {},
   "outputs": [
    {
     "name": "stderr",
     "output_type": "stream",
     "text": [
      "C:\\Users\\brian\\AppData\\Local\\Temp\\ipykernel_65428\\78138145.py:9: DeprecationWarning: Conversion of an array with ndim > 0 to a scalar is deprecated, and will error in future. Ensure you extract a single element from your array before performing this operation. (Deprecated NumPy 1.25.)\n",
      "  vm = math.sqrt(0.5*internal)\n"
     ]
    },
    {
     "data": {
      "text/latex": [
       "$\\displaystyle 1394.25446888635$"
      ],
      "text/plain": [
       "1394.2544688863518"
      ]
     },
     "execution_count": 12,
     "metadata": {},
     "output_type": "execute_result"
    }
   ],
   "source": [
    "def vm_stress_mandell(mandel_stress_vec):\n",
    "    Y = 1e3\n",
    "    # MML stress comes in the following order: 11, 22, 33, 12, 23, 13\n",
    "    sigma_11, sigma_22, sigma_33, sigma_12, sigma_23, sigma_13 = mandel_stress_vec\n",
    "    sigma_12 = sigma_12/ROOT2\n",
    "    sigma_23 = sigma_23/ROOT2\n",
    "    sigma_13 = sigma_13/ROOT2\n",
    "    internal = (sigma_11 - sigma_22)**2 + (sigma_22 - sigma_33)**2 + (sigma_33 - sigma_11)**2 + 6*(sigma_23**2 + sigma_13**2 + sigma_12**2)\n",
    "    vm = math.sqrt(0.5*internal)\n",
    "    return vm - Y\n",
    "vm_stress_mandell(np.array(stress_obj.as_mandel()))"
   ]
  },
  {
   "cell_type": "code",
   "execution_count": null,
   "metadata": {},
   "outputs": [],
   "source": []
  }
 ],
 "metadata": {
  "kernelspec": {
   "display_name": "mml2",
   "language": "python",
   "name": "python3"
  },
  "language_info": {
   "codemirror_mode": {
    "name": "ipython",
    "version": 3
   },
   "file_extension": ".py",
   "mimetype": "text/x-python",
   "name": "python",
   "nbconvert_exporter": "python",
   "pygments_lexer": "ipython3",
   "version": "3.12.3"
  }
 },
 "nbformat": 4,
 "nbformat_minor": 2
}
