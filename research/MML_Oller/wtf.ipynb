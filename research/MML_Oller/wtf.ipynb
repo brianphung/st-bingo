{
 "cells": [
  {
   "cell_type": "code",
   "execution_count": 1,
   "metadata": {},
   "outputs": [],
   "source": [
    "import numpy as np"
   ]
  },
  {
   "cell_type": "code",
   "execution_count": 2,
   "metadata": {},
   "outputs": [],
   "source": [
    "B = np.array( [ [ -0.225, 0.39, 0.23], [-0.093, 0.41, 0.075], [ -0.258, 0.512, 0.139] ])*5.298\n",
    "A = np.linalg.inv(B)"
   ]
  },
  {
   "cell_type": "code",
   "execution_count": 3,
   "metadata": {},
   "outputs": [
    {
     "data": {
      "text/plain": [
       "array([[114.09655358, 222.55330183, 910.30498689],\n",
       "       [222.55330183, 472.04809018, 834.11296747],\n",
       "       [910.30498689, 834.11296747, 301.74157596]])"
      ]
     },
     "execution_count": 3,
     "metadata": {},
     "output_type": "execute_result"
    }
   ],
   "source": [
    "sv = np.random.rand(6)*1000\n",
    "stress_tensor = np.array([[sv[0], sv[5], sv[4]], [ sv[5], sv[1], sv[3] ], [ sv[4], sv[3], sv[2] ] ])\n",
    "stress_tensor"
   ]
  },
  {
   "cell_type": "code",
   "execution_count": 4,
   "metadata": {},
   "outputs": [
    {
     "data": {
      "text/plain": [
       "(array([1652.60265709,   92.64884033, -857.3652777 ]),\n",
       " array([[-0.47917583, -0.64493454, -0.59535701],\n",
       "        [-0.56494313,  0.74574038, -0.35314379],\n",
       "        [-0.67173639, -0.16712488,  0.72169211]]))"
      ]
     },
     "execution_count": 4,
     "metadata": {},
     "output_type": "execute_result"
    }
   ],
   "source": [
    "princ, p_vec = np.linalg.eig(stress_tensor)\n",
    "princ, p_vec"
   ]
  },
  {
   "cell_type": "code",
   "execution_count": 6,
   "metadata": {},
   "outputs": [],
   "source": [
    "B_four = np.einsum('ik,jl->ijkl', np.eye(3), B)"
   ]
  },
  {
   "cell_type": "code",
   "execution_count": 9,
   "metadata": {},
   "outputs": [
    {
     "data": {
      "text/plain": [
       "array([[-1969.98499739,  -814.26046559, -2258.91613034],\n",
       "       [  191.43288686,   201.24995798,   251.31702069],\n",
       "       [-1044.73388549,  -340.67409309,  -631.38265253]])"
      ]
     },
     "execution_count": 9,
     "metadata": {},
     "output_type": "execute_result"
    }
   ],
   "source": [
    "trans_tens = np.tensordot(B_four, np.diag(princ))\n",
    "trans_tens"
   ]
  },
  {
   "cell_type": "code",
   "execution_count": 11,
   "metadata": {},
   "outputs": [
    {
     "data": {
      "text/plain": [
       "array([[ 1.65260266e+03,  5.68434189e-14,  4.54747351e-13],\n",
       "       [-9.94759830e-14,  9.26488403e+01,  0.00000000e+00],\n",
       "       [-2.27373675e-13, -1.42108547e-14, -8.57365278e+02]])"
      ]
     },
     "execution_count": 11,
     "metadata": {},
     "output_type": "execute_result"
    }
   ],
   "source": [
    "np.tensordot(np.linalg.tensorinv(B_four), trans_tens)"
   ]
  },
  {
   "cell_type": "code",
   "execution_count": 12,
   "metadata": {},
   "outputs": [
    {
     "data": {
      "text/plain": [
       "(array([-2898.11299688,   379.1388781 ,   118.85642683]),\n",
       " array([[ 0.9095915 , -0.713767  , -0.19339173],\n",
       "        [-0.08908938,  0.18588639,  0.96636733],\n",
       "        [ 0.40584034,  0.67526507, -0.16951052]]))"
      ]
     },
     "execution_count": 12,
     "metadata": {},
     "output_type": "execute_result"
    }
   ],
   "source": [
    "princ_trans, p_vec_trans = np.linalg.eig(trans_tens)\n",
    "princ_trans, p_vec_trans"
   ]
  },
  {
   "cell_type": "code",
   "execution_count": 13,
   "metadata": {},
   "outputs": [
    {
     "data": {
      "text/plain": [
       "array([-2823.28599602,  -953.6846007 , -2638.98176218])"
      ]
     },
     "execution_count": 13,
     "metadata": {},
     "output_type": "execute_result"
    }
   ],
   "source": [
    "B @ princ"
   ]
  },
  {
   "cell_type": "code",
   "execution_count": null,
   "metadata": {},
   "outputs": [],
   "source": []
  }
 ],
 "metadata": {
  "kernelspec": {
   "display_name": "mml2",
   "language": "python",
   "name": "python3"
  },
  "language_info": {
   "codemirror_mode": {
    "name": "ipython",
    "version": 3
   },
   "file_extension": ".py",
   "mimetype": "text/x-python",
   "name": "python",
   "nbconvert_exporter": "python",
   "pygments_lexer": "ipython3",
   "version": "3.12.3"
  }
 },
 "nbformat": 4,
 "nbformat_minor": 2
}
