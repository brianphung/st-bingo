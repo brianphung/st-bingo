{
 "cells": [
  {
   "cell_type": "code",
   "execution_count": 1,
   "metadata": {},
   "outputs": [],
   "source": [
    "import numpy as np"
   ]
  },
  {
   "cell_type": "code",
   "execution_count": 2,
   "metadata": {},
   "outputs": [
    {
     "data": {
      "text/plain": [
       "array([[-1346. ,    45. ,  1469. ],\n",
       "       [   45. , -1638. ,   236.5],\n",
       "       [ 1469. ,   236.5,   588. ]])"
      ]
     },
     "execution_count": 2,
     "metadata": {},
     "output_type": "execute_result"
    }
   ],
   "source": [
    "N = 3\n",
    "b = np.random.randint(-2000, 2000 + 1, size=(N,N))\n",
    "stress = (b + b.T)/2\n",
    "stress\n"
   ]
  },
  {
   "cell_type": "code",
   "execution_count": 3,
   "metadata": {},
   "outputs": [
    {
     "data": {
      "text/plain": [
       "(array([[ 1397.0751709 ,     0.        ,     0.        ],\n",
       "        [    0.        , -2148.34290789,     0.        ],\n",
       "        [    0.        ,     0.        , -1644.73226301]]),\n",
       " array([[ 0.47171135,  0.86648064,  0.16340042],\n",
       "        [ 0.07545011,  0.14496904, -0.98655525],\n",
       "        [ 0.87851903, -0.47769789, -0.00300748]]))"
      ]
     },
     "execution_count": 3,
     "metadata": {},
     "output_type": "execute_result"
    }
   ],
   "source": [
    "prin_scalar, eig_vec = np.linalg.eig(stress)\n",
    "prin = np.diag(prin_scalar)\n",
    "prin, eig_vec"
   ]
  },
  {
   "cell_type": "code",
   "execution_count": 4,
   "metadata": {},
   "outputs": [
    {
     "data": {
      "text/plain": [
       "(array([[-1346. ,    45. ,  1469. ],\n",
       "        [   45. , -1638. ,   236.5],\n",
       "        [ 1469. ,   236.5,   588. ]]),\n",
       " array([[ 1.39707517e+03, -1.13686838e-13,  9.37028233e-14],\n",
       "        [-1.13686838e-13, -2.14834291e+03, -1.02140518e-12],\n",
       "        [ 1.27897692e-13, -1.00053299e-12, -1.64473226e+03]]),\n",
       " array([[ 1.00000000e+00, -5.82867088e-16, -2.01661604e-16],\n",
       "        [-5.82867088e-16,  1.00000000e+00,  8.67361738e-18],\n",
       "        [-2.01661604e-16,  8.67361738e-18,  1.00000000e+00]]))"
      ]
     },
     "execution_count": 4,
     "metadata": {},
     "output_type": "execute_result"
    }
   ],
   "source": [
    "eig_vec @ prin @ np.transpose(eig_vec), np.transpose(eig_vec) @ stress @ eig_vec, eig_vec@np.transpose(eig_vec)"
   ]
  },
  {
   "cell_type": "code",
   "execution_count": 5,
   "metadata": {},
   "outputs": [
    {
     "data": {
      "text/plain": [
       "(array([[-10222.81553477,      0.        ,      0.        ],\n",
       "        [     0.        ,  -1170.39028826,      0.        ],\n",
       "        [     0.        ,      0.        ,   8134.79393328]]),\n",
       " array([-10222.81553477,  -1170.39028826,   8134.79393328]))"
      ]
     },
     "execution_count": 5,
     "metadata": {},
     "output_type": "execute_result"
    }
   ],
   "source": [
    "#B_in = np.array( [ [ -0.225, 0.39, 0.23], [-0.093, 0.41, 0.075], [ -0.258, 0.512, 0.139] ])*5.298\n",
    "B_in = np.array( [ [ 2, .7, 7 ], [.7,1,0], [ 7,0,1] ])\n",
    "transformed_principal_stress = np.diag(B_in @ prin_scalar)\n",
    "transformed_principal_stress, B_in @ prin_scalar #, np.linalg.eig(transformed_principal_stress)"
   ]
  },
  {
   "cell_type": "code",
   "execution_count": 6,
   "metadata": {},
   "outputs": [
    {
     "data": {
      "text/plain": [
       "array([[-2936.21432493, -1822.21058526, -3755.96479553],\n",
       "       [-1822.21058526,  7834.73124645,  -572.42527839],\n",
       "       [-3755.96479553,  -572.42527839, -8156.92881128]])"
      ]
     },
     "execution_count": 6,
     "metadata": {},
     "output_type": "execute_result"
    }
   ],
   "source": [
    "return_stress = eig_vec @ transformed_principal_stress @ np.transpose(eig_vec)\n",
    "return_stress"
   ]
  },
  {
   "cell_type": "code",
   "execution_count": 7,
   "metadata": {},
   "outputs": [
    {
     "data": {
      "text/plain": [
       "(array([-10222.81553477,  -1170.39028826,   8134.79393328]),\n",
       " array([[-0.47171135, -0.86648064,  0.16340042],\n",
       "        [-0.07545011, -0.14496904, -0.98655525],\n",
       "        [-0.87851903,  0.47769789, -0.00300748]]))"
      ]
     },
     "execution_count": 7,
     "metadata": {},
     "output_type": "execute_result"
    }
   ],
   "source": [
    "rprin, reig_vec = np.linalg.eig(return_stress)\n",
    "rprin, reig_vec"
   ]
  },
  {
   "cell_type": "code",
   "execution_count": 8,
   "metadata": {},
   "outputs": [
    {
     "data": {
      "text/plain": [
       "array([[ 2.87382154, -3.04206273,  1.78444835],\n",
       "       [-3.04206273, -0.02109403, -5.93833594],\n",
       "       [ 1.78444835, -5.93833594,  1.14727249]])"
      ]
     },
     "execution_count": 8,
     "metadata": {},
     "output_type": "execute_result"
    }
   ],
   "source": [
    "Beta = eig_vec @ B_in @ np.transpose(eig_vec)\n",
    "Beta"
   ]
  },
  {
   "cell_type": "code",
   "execution_count": 9,
   "metadata": {},
   "outputs": [
    {
     "data": {
      "text/plain": [
       "array([[-1383.70198107,  5534.24275274,  4551.451635  ],\n",
       "       [-4629.74829819, -1506.75725375, -7965.52041859],\n",
       "       [ -983.74931091, 10078.6243927 ,  1891.53440572]])"
      ]
     },
     "execution_count": 9,
     "metadata": {},
     "output_type": "execute_result"
    }
   ],
   "source": [
    "A = np.einsum('im,nj->ijmn', Beta, np.eye(3))\n",
    "np.tensordot(A, stress)"
   ]
  },
  {
   "cell_type": "code",
   "execution_count": 10,
   "metadata": {},
   "outputs": [
    {
     "data": {
      "text/plain": [
       "array([[ 0., -3.,  2.],\n",
       "       [ 3.,  0., -1.],\n",
       "       [-2.,  1.,  0.]])"
      ]
     },
     "execution_count": 10,
     "metadata": {},
     "output_type": "execute_result"
    }
   ],
   "source": [
    "np.cross(np.eye(3), np.array([1,2,3]))"
   ]
  },
  {
   "cell_type": "code",
   "execution_count": null,
   "metadata": {},
   "outputs": [],
   "source": []
  }
 ],
 "metadata": {
  "kernelspec": {
   "display_name": "base",
   "language": "python",
   "name": "python3"
  },
  "language_info": {
   "codemirror_mode": {
    "name": "ipython",
    "version": 3
   },
   "file_extension": ".py",
   "mimetype": "text/x-python",
   "name": "python",
   "nbconvert_exporter": "python",
   "pygments_lexer": "ipython3",
   "version": "3.11.7"
  }
 },
 "nbformat": 4,
 "nbformat_minor": 2
}
