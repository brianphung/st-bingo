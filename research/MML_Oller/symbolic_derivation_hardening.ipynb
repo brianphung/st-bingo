{
 "cells": [
  {
   "cell_type": "code",
   "execution_count": 1,
   "metadata": {},
   "outputs": [],
   "source": [
    "import sympy as sp\n",
    "from sympy import init_printing\n",
    "init_printing(use_latex='mathjax')"
   ]
  },
  {
   "cell_type": "markdown",
   "metadata": {},
   "source": []
  },
  {
   "cell_type": "code",
   "execution_count": 5,
   "metadata": {},
   "outputs": [
    {
     "data": {
      "text/latex": [
       "$\\displaystyle \\left( \\epsilon_{eq}, \\  H, \\  - H \\epsilon_{eq} + \\sigma_{YS}\\right)$"
      ],
      "text/plain": [
       "(ε_eq, H, -H⋅ε_eq + σ_YS)"
      ]
     },
     "execution_count": 5,
     "metadata": {},
     "output_type": "execute_result"
    }
   ],
   "source": [
    "sigma = sp.symbols('sigma_1:7')\n",
    "sigma_11 = sigma[0]\n",
    "sigma_22 = sigma[1]\n",
    "sigma_33 = sigma[2]\n",
    "sigma_12 = sigma[3]\n",
    "sigma_23 = sigma[4]\n",
    "sigma_13 = sigma[5]\n",
    "eqps = sp.Symbol('epsilon_eq')\n",
    "H = sp.Symbol('H')\n",
    "sigma_Y = sp.symbols('sigma_YS') - H*eqps\n",
    "eqps, H, sigma_Y"
   ]
  },
  {
   "cell_type": "code",
   "execution_count": 6,
   "metadata": {},
   "outputs": [
    {
     "data": {
      "text/latex": [
       "$\\displaystyle \\sqrt{3 \\sigma_{4}^{2} + 3 \\sigma_{5}^{2} + 3 \\sigma_{6}^{2} + \\frac{\\left(- \\sigma_{1} + \\sigma_{3}\\right)^{2}}{2} + \\frac{\\left(\\sigma_{1} - \\sigma_{2}\\right)^{2}}{2} + \\frac{\\left(\\sigma_{2} - \\sigma_{3}\\right)^{2}}{2}}$"
      ],
      "text/plain": [
       "     _______________________________________________________________\n",
       "    ╱                                   2            2            2 \n",
       "   ╱      2       2       2   (-σ₁ + σ₃)    (σ₁ - σ₂)    (σ₂ - σ₃)  \n",
       "  ╱   3⋅σ₄  + 3⋅σ₅  + 3⋅σ₆  + ─────────── + ────────── + ────────── \n",
       "╲╱                                 2            2            2      "
      ]
     },
     "execution_count": 6,
     "metadata": {},
     "output_type": "execute_result"
    }
   ],
   "source": [
    "Y2 = 0.5*()"
   ]
  },
  {
   "cell_type": "code",
   "execution_count": 7,
   "metadata": {},
   "outputs": [
    {
     "data": {
      "text/latex": [
       "$\\displaystyle H \\epsilon_{eq} - \\sigma_{YS} + \\sqrt{3 \\sigma_{4}^{2} + 3 \\sigma_{5}^{2} + 3 \\sigma_{6}^{2} + \\frac{\\left(- \\sigma_{1} + \\sigma_{3}\\right)^{2}}{2} + \\frac{\\left(\\sigma_{1} - \\sigma_{2}\\right)^{2}}{2} + \\frac{\\left(\\sigma_{2} - \\sigma_{3}\\right)^{2}}{2}}$"
      ],
      "text/plain": [
       "                     _________________________________________________________\n",
       "                    ╱                                   2            2        \n",
       "                   ╱      2       2       2   (-σ₁ + σ₃)    (σ₁ - σ₂)    (σ₂ -\n",
       "H⋅ε_eq - σ_YS +   ╱   3⋅σ₄  + 3⋅σ₅  + 3⋅σ₆  + ─────────── + ────────── + ─────\n",
       "                ╲╱                                 2            2            2\n",
       "\n",
       "______\n",
       "    2 \n",
       " σ₃)  \n",
       "───── \n",
       "      "
      ]
     },
     "execution_count": 7,
     "metadata": {},
     "output_type": "execute_result"
    }
   ],
   "source": [
    "yield_function = vm - sigma_Y\n",
    "yield_function"
   ]
  },
  {
   "cell_type": "code",
   "execution_count": 15,
   "metadata": {},
   "outputs": [
    {
     "data": {
      "text/latex": [
       "$\\displaystyle \\frac{\\sqrt{2} \\cdot \\left(2 \\sigma_{1} - \\sigma_{2} - \\sigma_{3}\\right)}{2 \\sqrt{6 \\sigma_{4}^{2} + 6 \\sigma_{5}^{2} + 6 \\sigma_{6}^{2} + \\left(\\sigma_{1} - \\sigma_{2}\\right)^{2} + \\left(\\sigma_{1} - \\sigma_{3}\\right)^{2} + \\left(\\sigma_{2} - \\sigma_{3}\\right)^{2}}}$"
      ],
      "text/plain": [
       "                        √2⋅(2⋅σ₁ - σ₂ - σ₃)                        \n",
       "───────────────────────────────────────────────────────────────────\n",
       "     ______________________________________________________________\n",
       "    ╱     2       2       2            2            2            2 \n",
       "2⋅╲╱  6⋅σ₄  + 6⋅σ₅  + 6⋅σ₆  + (σ₁ - σ₂)  + (σ₁ - σ₃)  + (σ₂ - σ₃)  "
      ]
     },
     "metadata": {},
     "output_type": "display_data"
    },
    {
     "name": "stdout",
     "output_type": "stream",
     "text": [
      "sigma_1 = Symbol('sigma_1')\n",
      "sigma_2 = Symbol('sigma_2')\n",
      "sigma_3 = Symbol('sigma_3')\n",
      "sigma_4 = Symbol('sigma_4')\n",
      "sigma_5 = Symbol('sigma_5')\n",
      "sigma_6 = Symbol('sigma_6')\n",
      "e = sqrt(2)*(2*sigma_1 - sigma_2 - sigma_3)/(2*sqrt(6*sigma_4**2 + 6*sigma_5**2 + 6*sigma_6**2 + (sigma_1 - sigma_2)**2 + (sigma_1 - sigma_3)**2 + (sigma_2 - sigma_3)**2))\n"
     ]
    },
    {
     "data": {
      "text/latex": [
       "$\\displaystyle \\frac{\\sqrt{2} \\left(- \\sigma_{1} + 2 \\sigma_{2} - \\sigma_{3}\\right)}{2 \\sqrt{6 \\sigma_{4}^{2} + 6 \\sigma_{5}^{2} + 6 \\sigma_{6}^{2} + \\left(\\sigma_{1} - \\sigma_{2}\\right)^{2} + \\left(\\sigma_{1} - \\sigma_{3}\\right)^{2} + \\left(\\sigma_{2} - \\sigma_{3}\\right)^{2}}}$"
      ],
      "text/plain": [
       "                        √2⋅(-σ₁ + 2⋅σ₂ - σ₃)                       \n",
       "───────────────────────────────────────────────────────────────────\n",
       "     ______________________________________________________________\n",
       "    ╱     2       2       2            2            2            2 \n",
       "2⋅╲╱  6⋅σ₄  + 6⋅σ₅  + 6⋅σ₆  + (σ₁ - σ₂)  + (σ₁ - σ₃)  + (σ₂ - σ₃)  "
      ]
     },
     "metadata": {},
     "output_type": "display_data"
    },
    {
     "name": "stdout",
     "output_type": "stream",
     "text": [
      "sigma_1 = Symbol('sigma_1')\n",
      "sigma_2 = Symbol('sigma_2')\n",
      "sigma_3 = Symbol('sigma_3')\n",
      "sigma_4 = Symbol('sigma_4')\n",
      "sigma_5 = Symbol('sigma_5')\n",
      "sigma_6 = Symbol('sigma_6')\n",
      "e = sqrt(2)*(-sigma_1 + 2*sigma_2 - sigma_3)/(2*sqrt(6*sigma_4**2 + 6*sigma_5**2 + 6*sigma_6**2 + (sigma_1 - sigma_2)**2 + (sigma_1 - sigma_3)**2 + (sigma_2 - sigma_3)**2))\n"
     ]
    },
    {
     "data": {
      "text/latex": [
       "$\\displaystyle \\frac{\\sqrt{2} \\left(- \\sigma_{1} - \\sigma_{2} + 2 \\sigma_{3}\\right)}{2 \\sqrt{6 \\sigma_{4}^{2} + 6 \\sigma_{5}^{2} + 6 \\sigma_{6}^{2} + \\left(\\sigma_{1} - \\sigma_{2}\\right)^{2} + \\left(\\sigma_{1} - \\sigma_{3}\\right)^{2} + \\left(\\sigma_{2} - \\sigma_{3}\\right)^{2}}}$"
      ],
      "text/plain": [
       "                        √2⋅(-σ₁ - σ₂ + 2⋅σ₃)                       \n",
       "───────────────────────────────────────────────────────────────────\n",
       "     ______________________________________________________________\n",
       "    ╱     2       2       2            2            2            2 \n",
       "2⋅╲╱  6⋅σ₄  + 6⋅σ₅  + 6⋅σ₆  + (σ₁ - σ₂)  + (σ₁ - σ₃)  + (σ₂ - σ₃)  "
      ]
     },
     "metadata": {},
     "output_type": "display_data"
    },
    {
     "name": "stdout",
     "output_type": "stream",
     "text": [
      "sigma_1 = Symbol('sigma_1')\n",
      "sigma_2 = Symbol('sigma_2')\n",
      "sigma_3 = Symbol('sigma_3')\n",
      "sigma_4 = Symbol('sigma_4')\n",
      "sigma_5 = Symbol('sigma_5')\n",
      "sigma_6 = Symbol('sigma_6')\n",
      "e = sqrt(2)*(-sigma_1 - sigma_2 + 2*sigma_3)/(2*sqrt(6*sigma_4**2 + 6*sigma_5**2 + 6*sigma_6**2 + (sigma_1 - sigma_2)**2 + (sigma_1 - sigma_3)**2 + (sigma_2 - sigma_3)**2))\n"
     ]
    },
    {
     "data": {
      "text/latex": [
       "$\\displaystyle \\frac{3 \\sqrt{2} \\sigma_{4}}{\\sqrt{6 \\sigma_{4}^{2} + 6 \\sigma_{5}^{2} + 6 \\sigma_{6}^{2} + \\left(\\sigma_{1} - \\sigma_{2}\\right)^{2} + \\left(\\sigma_{1} - \\sigma_{3}\\right)^{2} + \\left(\\sigma_{2} - \\sigma_{3}\\right)^{2}}}$"
      ],
      "text/plain": [
       "                             3⋅√2⋅σ₄                             \n",
       "─────────────────────────────────────────────────────────────────\n",
       "   ______________________________________________________________\n",
       "  ╱     2       2       2            2            2            2 \n",
       "╲╱  6⋅σ₄  + 6⋅σ₅  + 6⋅σ₆  + (σ₁ - σ₂)  + (σ₁ - σ₃)  + (σ₂ - σ₃)  "
      ]
     },
     "metadata": {},
     "output_type": "display_data"
    },
    {
     "name": "stdout",
     "output_type": "stream",
     "text": [
      "sigma_4 = Symbol('sigma_4')\n",
      "sigma_5 = Symbol('sigma_5')\n",
      "sigma_6 = Symbol('sigma_6')\n",
      "sigma_1 = Symbol('sigma_1')\n",
      "sigma_2 = Symbol('sigma_2')\n",
      "sigma_3 = Symbol('sigma_3')\n",
      "e = 3*sqrt(2)*sigma_4/sqrt(6*sigma_4**2 + 6*sigma_5**2 + 6*sigma_6**2 + (sigma_1 - sigma_2)**2 + (sigma_1 - sigma_3)**2 + (sigma_2 - sigma_3)**2)\n"
     ]
    },
    {
     "data": {
      "text/latex": [
       "$\\displaystyle \\frac{3 \\sqrt{2} \\sigma_{5}}{\\sqrt{6 \\sigma_{4}^{2} + 6 \\sigma_{5}^{2} + 6 \\sigma_{6}^{2} + \\left(\\sigma_{1} - \\sigma_{2}\\right)^{2} + \\left(\\sigma_{1} - \\sigma_{3}\\right)^{2} + \\left(\\sigma_{2} - \\sigma_{3}\\right)^{2}}}$"
      ],
      "text/plain": [
       "                             3⋅√2⋅σ₅                             \n",
       "─────────────────────────────────────────────────────────────────\n",
       "   ______________________________________________________________\n",
       "  ╱     2       2       2            2            2            2 \n",
       "╲╱  6⋅σ₄  + 6⋅σ₅  + 6⋅σ₆  + (σ₁ - σ₂)  + (σ₁ - σ₃)  + (σ₂ - σ₃)  "
      ]
     },
     "metadata": {},
     "output_type": "display_data"
    },
    {
     "name": "stdout",
     "output_type": "stream",
     "text": [
      "sigma_5 = Symbol('sigma_5')\n",
      "sigma_4 = Symbol('sigma_4')\n",
      "sigma_6 = Symbol('sigma_6')\n",
      "sigma_1 = Symbol('sigma_1')\n",
      "sigma_2 = Symbol('sigma_2')\n",
      "sigma_3 = Symbol('sigma_3')\n",
      "e = 3*sqrt(2)*sigma_5/sqrt(6*sigma_4**2 + 6*sigma_5**2 + 6*sigma_6**2 + (sigma_1 - sigma_2)**2 + (sigma_1 - sigma_3)**2 + (sigma_2 - sigma_3)**2)\n"
     ]
    },
    {
     "data": {
      "text/latex": [
       "$\\displaystyle \\frac{3 \\sqrt{2} \\sigma_{6}}{\\sqrt{6 \\sigma_{4}^{2} + 6 \\sigma_{5}^{2} + 6 \\sigma_{6}^{2} + \\left(\\sigma_{1} - \\sigma_{2}\\right)^{2} + \\left(\\sigma_{1} - \\sigma_{3}\\right)^{2} + \\left(\\sigma_{2} - \\sigma_{3}\\right)^{2}}}$"
      ],
      "text/plain": [
       "                             3⋅√2⋅σ₆                             \n",
       "─────────────────────────────────────────────────────────────────\n",
       "   ______________________________________________________________\n",
       "  ╱     2       2       2            2            2            2 \n",
       "╲╱  6⋅σ₄  + 6⋅σ₅  + 6⋅σ₆  + (σ₁ - σ₂)  + (σ₁ - σ₃)  + (σ₂ - σ₃)  "
      ]
     },
     "metadata": {},
     "output_type": "display_data"
    },
    {
     "name": "stdout",
     "output_type": "stream",
     "text": [
      "sigma_6 = Symbol('sigma_6')\n",
      "sigma_4 = Symbol('sigma_4')\n",
      "sigma_5 = Symbol('sigma_5')\n",
      "sigma_1 = Symbol('sigma_1')\n",
      "sigma_2 = Symbol('sigma_2')\n",
      "sigma_3 = Symbol('sigma_3')\n",
      "e = 3*sqrt(2)*sigma_6/sqrt(6*sigma_4**2 + 6*sigma_5**2 + 6*sigma_6**2 + (sigma_1 - sigma_2)**2 + (sigma_1 - sigma_3)**2 + (sigma_2 - sigma_3)**2)\n"
     ]
    }
   ],
   "source": [
    "dGdeqps = []\n",
    "for i in range(6):\n",
    "    dGdeqps.append(yield_function.diff(sigma[i]).simplify())\n",
    "    display(dGdS[-1])\n",
    "    print(sp.python(dGdS[-1]))"
   ]
  },
  {
   "cell_type": "code",
   "execution_count": null,
   "metadata": {},
   "outputs": [],
   "source": []
  }
 ],
 "metadata": {
  "kernelspec": {
   "display_name": "mml2",
   "language": "python",
   "name": "python3"
  },
  "language_info": {
   "codemirror_mode": {
    "name": "ipython",
    "version": 3
   },
   "file_extension": ".py",
   "mimetype": "text/x-python",
   "name": "python",
   "nbconvert_exporter": "python",
   "pygments_lexer": "ipython3",
   "version": "3.11.9"
  }
 },
 "nbformat": 4,
 "nbformat_minor": 2
}
