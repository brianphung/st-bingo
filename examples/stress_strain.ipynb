{
 "cells": [
  {
   "cell_type": "markdown",
   "id": "cae467fe",
   "metadata": {},
   "source": [
    "# Stress-Strain Using Strongly-Typed GPSR\n",
    "\n",
    "## Goal: Show how simple stress-strain relationships can be learned using Bingo's strongly-typed functionality"
   ]
  },
  {
   "cell_type": "markdown",
   "id": "7140722b",
   "metadata": {},
   "source": [
    "### Pre-Requisites\n",
    "\n",
    "It is recommended to check out the [symbolic regression tutorial](tutorial_4.html) before continuing."
   ]
  },
  {
   "cell_type": "markdown",
   "id": "fd1a2563",
   "metadata": {},
   "source": [
    "### Problem Description\n",
    "\n",
    "We can describe the relationship between stress and strain as $\\mathbf{\\sigma} =\n",
    "C \\mathbf{\\epsilon}$, where $\\mathbf{\\sigma}$ is a stress tensor,\n",
    "$\\mathbf{\\epsilon}$ is a strain tensor, and $C$ is a tensor of constants\n",
    "according to the anisotropy of the material. We can use Bingo's strongly typed\n",
    "functionality to learn this relationship, as well as more complicated tensor\n",
    "relationships."
   ]
  },
  {
   "cell_type": "markdown",
   "id": "22581268",
   "metadata": {},
   "source": [
    "### Creating Training Data\n",
    "\n",
    "#### Getting C In Voigt Form\n",
    "\n",
    "We can define anisotropies based on the number of unique constants in Voigt\n",
    "form and where those constants show up.\n",
    "\n",
    "In the case of cubic symmetry, there are 3 unique constants, with the first\n",
    "and third constant showing up on the main diagonal, and the second constant\n",
    "showing up on the second and third diagonals:"
   ]
  },
  {
   "cell_type": "code",
   "execution_count": null,
   "id": "202a9495",
   "metadata": {
    "pycharm": {
     "name": "#%%\n"
    }
   },
   "outputs": [],
   "source": [
    "import numpy as np\n",
    "\n",
    "ANISOTROPY_STRUCTURES = {\"cubic\": [3, np.array([[1, 2, 2, 0, 0, 0],\n",
    "                                                [2, 1, 2, 0, 0, 0],\n",
    "                                                [2, 2, 1, 0, 0, 0],\n",
    "                                                [0, 0, 0, 3, 0, 0],\n",
    "                                                [0, 0, 0, 0, 3, 0],\n",
    "                                                [0, 0, 0, 0, 0, 3]])]}"
   ]
  },
  {
   "cell_type": "markdown",
   "id": "ecd68000",
   "metadata": {
    "pycharm": {
     "name": "#%% md\n"
    }
   },
   "source": [
    "We can then define a function that gets a random $C$ matrix based on a\n",
    "particular anistropy defined in `ANISOTROPY_STRUCTURES`:"
   ]
  },
  {
   "cell_type": "code",
   "execution_count": null,
   "id": "5e7ac07e",
   "metadata": {
    "pycharm": {
     "name": "#%%\n"
    }
   },
   "outputs": [],
   "source": [
    "def get_random_c_matrix(anisotropy):\n",
    "    if anisotropy.lower() not in ANISOTROPY_STRUCTURES.keys():\n",
    "        raise RuntimeError(f\"Unsupported anistropy: {anisotropy.lower()}\")\n",
    "\n",
    "    # get info from mapping\n",
    "    n_constants, structure = ANISOTROPY_STRUCTURES[anisotropy]\n",
    "\n",
    "    random_constants = np.random.rand(n_constants)\n",
    "\n",
    "    # get indices of constants (e.g., 1, 2, ...)\n",
    "    constant_idxs = []\n",
    "    for i in range(1, 1+n_constants):\n",
    "        constant_idxs.append(structure == i)\n",
    "\n",
    "    # use indices to replace 1 with first random constant, and so forth\n",
    "    c_matrix = np.zeros((6, 6))\n",
    "    for i, constant_idx in enumerate(constant_idxs):\n",
    "        c_matrix[constant_idx] = random_constants[i]\n",
    "\n",
    "    return c_matrix"
   ]
  },
  {
   "cell_type": "markdown",
   "id": "984dfaf4",
   "metadata": {
    "pycharm": {
     "name": "#%% md\n"
    }
   },
   "source": [
    "#### Generating Training Data\n",
    "\n",
    "We can generate random $\\mathbf{\\epsilon}$ tensors in Voigt form and get\n",
    "their respective $\\mathbf{\\sigma}$ tensors to train on."
   ]
  },
  {
   "cell_type": "code",
   "execution_count": null,
   "id": "a18eef27",
   "metadata": {
    "pycharm": {
     "name": "#%%\n"
    }
   },
   "outputs": [],
   "source": [
    "np.random.seed(2)\n",
    "\n",
    "N_POINTS = 100\n",
    "\n",
    "epsilon = np.random.rand(N_POINTS, 6, 6)\n",
    "\n",
    "C = get_random_c_matrix(\"cubic\")\n",
    "print(f\"Trying to find: sigma = \\n{C}(epsilon)\")\n",
    "\n",
    "sigma = C @ epsilon"
   ]
  },
  {
   "cell_type": "markdown",
   "id": "bd292db4",
   "metadata": {
    "pycharm": {
     "name": "#%% md\n"
    }
   },
   "source": [
    "Formally creating the training data is as simple as making epsilon the\n",
    "first variable, and sigma the output:"
   ]
  },
  {
   "cell_type": "code",
   "execution_count": null,
   "id": "4c35c095",
   "metadata": {
    "pycharm": {
     "name": "#%%\n"
    }
   },
   "outputs": [],
   "source": [
    "from bingo.symbolic_regression.explicit_regression_md import ExplicitTrainingDataMD\n",
    "\n",
    "training_data = ExplicitTrainingDataMD([epsilon], sigma)"
   ]
  },
  {
   "cell_type": "markdown",
   "id": "cb1d2994",
   "metadata": {
    "pycharm": {
     "name": "#%% md\n"
    }
   },
   "source": [
    "### Setting Up the Evolutionary Process\n",
    "\n",
    "Setting up the evolutionary process for strongly-typed GPSR is very similar to setting up Bingo's\n",
    "normal evolutionary process, as described in [the symbolic regression tutorial](tutorial_4.html).\n",
    "However, there are some notable differences:\n",
    "\n",
    "- Objects specific to multiple-dimensions have MD at the end\n",
    "(e.g., `ExplicitRegressionMD` instead of `ExplicitRegression`)\n",
    "\n",
    "- Operators relate to linear algebra/tensors instead of scalars\n",
    "\n",
    "#### Input and Output Shapes\n",
    "\n",
    "Many strongly-typed objects need type information, so let's store the\n",
    "shape information of our input and output variables."
   ]
  },
  {
   "cell_type": "code",
   "execution_count": null,
   "id": "fb900a48",
   "metadata": {
    "pycharm": {
     "name": "#%%\n"
    }
   },
   "outputs": [],
   "source": [
    "inputs, output = training_data.x, training_data.y\n",
    "input_dims = [np.shape(_x[0]) for _x in inputs]\n",
    "output_dim = output[0].shape"
   ]
  },
  {
   "cell_type": "markdown",
   "id": "2e1b0491",
   "metadata": {
    "pycharm": {
     "name": "#%% md\n"
    }
   },
   "source": [
    "#### Component Generator\n",
    "\n",
    "The strongly-typed component generator is basically the same as Bingo's\n",
    "typical component generator, expect the operators relate to matrices and/or\n",
    "tensors. Furthermore, we can specify the shapes of possible constants:"
   ]
  },
  {
   "cell_type": "code",
   "execution_count": null,
   "id": "855430a2",
   "metadata": {
    "pycharm": {
     "name": "#%%\n"
    }
   },
   "outputs": [],
   "source": [
    "from bingo.symbolic_regression.agraphMD.component_generator_md import ComponentGeneratorMD\n",
    "\n",
    "component_generator = ComponentGeneratorMD(input_dims, possible_dims=[(6, 6)])\n",
    "component_generator.add_operator(\"+\")\n",
    "component_generator.add_operator(\"*\")"
   ]
  },
  {
   "cell_type": "markdown",
   "id": "2cbe4c54",
   "metadata": {
    "pycharm": {
     "name": "#%% md\n"
    }
   },
   "source": [
    "In this case, we are only using matrix addition and multiplication. We are\n",
    "also only allowing for constants to be 6x6.\n"
   ]
  },
  {
   "cell_type": "markdown",
   "id": "6a49e4ea",
   "metadata": {
    "pycharm": {
     "name": "#%% md\n"
    }
   },
   "source": [
    "#### Crossover and Mutation"
   ]
  },
  {
   "cell_type": "code",
   "execution_count": null,
   "id": "44ad0a15",
   "metadata": {
    "pycharm": {
     "name": "#%%\n"
    }
   },
   "outputs": [],
   "source": [
    "from bingo.symbolic_regression.agraphMD.crossover_md import AGraphCrossoverMD\n",
    "from bingo.symbolic_regression.agraphMD.mutation_md import AGraphMutationMD\n",
    "\n",
    "crossover = AGraphCrossoverMD()\n",
    "mutation = AGraphMutationMD(component_generator, command_probability=0.333,node_probability=0.333,\n",
    "                            parameter_probability=0.333, prune_probability=0.0, fork_probability=0.0)"
   ]
  },
  {
   "cell_type": "markdown",
   "id": "0d6a0052",
   "metadata": {
    "pycharm": {
     "name": "#%% md\n"
    }
   },
   "source": [
    "#### AGraph Generator"
   ]
  },
  {
   "cell_type": "code",
   "execution_count": null,
   "id": "b1be4bc0",
   "metadata": {
    "pycharm": {
     "name": "#%%\n"
    }
   },
   "outputs": [],
   "source": [
    "from bingo.symbolic_regression.agraphMD.generator_md import AGraphGeneratorMD\n",
    "\n",
    "STACK_SIZE = 6\n",
    "\n",
    "agraph_generator = AGraphGeneratorMD(STACK_SIZE, component_generator, input_dims, output_dim, use_simplification=False)"
   ]
  },
  {
   "cell_type": "markdown",
   "id": "62a2f3e2",
   "metadata": {
    "pycharm": {
     "name": "#%% md\n"
    }
   },
   "source": [
    "#### Evaluation\n",
    "\n",
    "Fitness functions are specific to multiple-dimensions (i.e., have MD after\n",
    "object names). However, evaluation is normal."
   ]
  },
  {
   "cell_type": "code",
   "execution_count": null,
   "id": "8b90ceca",
   "metadata": {
    "pycharm": {
     "name": "#%%\n"
    }
   },
   "outputs": [],
   "source": [
    "from bingo.symbolic_regression.explicit_regression_md import ExplicitRegressionMD\n",
    "from bingo.local_optimizers.continuous_local_opt_md import ContinuousLocalOptimizationMD\n",
    "from bingo.evaluation.evaluation import Evaluation\n",
    "\n",
    "fitness = ExplicitRegressionMD(training_data=training_data)\n",
    "local_opt_fitness = ContinuousLocalOptimizationMD(fitness, algorithm='lm', param_init_bounds=[0, 1])\n",
    "evaluator = Evaluation(local_opt_fitness)"
   ]
  },
  {
   "cell_type": "markdown",
   "id": "e8ba2ef4",
   "metadata": {
    "pycharm": {
     "name": "#%% md\n"
    }
   },
   "source": [
    "#### Evolutionary Algorithm and Optimizer\n",
    "\n",
    "These objects are not specific to multiple-dimensions, so normal objects\n",
    "can be used."
   ]
  },
  {
   "cell_type": "code",
   "execution_count": null,
   "id": "86782112",
   "metadata": {
    "pycharm": {
     "name": "#%%\n"
    }
   },
   "outputs": [],
   "source": [
    "from bingo.evolutionary_algorithms.age_fitness import AgeFitnessEA\n",
    "from bingo.evolutionary_optimizers.island import Island\n",
    "\n",
    "POP_SIZE = 100\n",
    "\n",
    "ea = AgeFitnessEA(evaluator, agraph_generator, crossover,\n",
    "                  mutation, 0.4, 0.4, POP_SIZE)\n",
    "\n",
    "island = Island(ea, agraph_generator, POP_SIZE)"
   ]
  },
  {
   "cell_type": "markdown",
   "id": "a25fe2af",
   "metadata": {
    "pycharm": {
     "name": "#%% md\n"
    }
   },
   "source": [
    "### Evolution"
   ]
  },
  {
   "cell_type": "code",
   "execution_count": null,
   "id": "20ee542e",
   "metadata": {
    "pycharm": {
     "name": "#%%\n"
    }
   },
   "outputs": [],
   "source": [
    "import random\n",
    "random.seed(2)\n",
    "\n",
    "MAX_GENS = 500\n",
    "FITNESS_THRESHOLD = 1e-6\n",
    "\n",
    "\n",
    "opt_result = island.evolve_until_convergence(max_generations=MAX_GENS,\n",
    "                                             fitness_threshold=FITNESS_THRESHOLD)"
   ]
  },
  {
   "cell_type": "markdown",
   "id": "9a9b422f",
   "metadata": {
    "pycharm": {
     "name": "#%% md\n"
    }
   },
   "source": [
    "### Results"
   ]
  },
  {
   "cell_type": "code",
   "execution_count": null,
   "id": "7ef5d890",
   "metadata": {
    "pycharm": {
     "name": "#%%\n"
    }
   },
   "outputs": [],
   "source": [
    "np.set_printoptions(suppress=True)  # print w/o scientific notation\n",
    "print(\"Result:\", opt_result)\n",
    "\n",
    "best_indiv = island.get_best_individual()\n",
    "print(\"Found individual:\", best_indiv.get_formatted_string(\"console\"))\n",
    "print(\"with fitness:\", best_indiv.fitness)"
   ]
  }
 ],
 "metadata": {
  "kernelspec": {
   "display_name": "Python 3",
   "language": "python",
   "name": "python3"
  },
  "language_info": {
   "codemirror_mode": {
    "name": "ipython",
    "version": 3
   },
   "file_extension": ".py",
   "mimetype": "text/x-python",
   "name": "python",
   "nbconvert_exporter": "python",
   "pygments_lexer": "ipython3",
   "version": "3.8.5"
  }
 },
 "nbformat": 4,
 "nbformat_minor": 5
}